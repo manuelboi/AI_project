{
  "nbformat": 4,
  "nbformat_minor": 0,
  "metadata": {
    "colab": {
      "provenance": [],
      "include_colab_link": true
    },
    "kernelspec": {
      "name": "python3",
      "display_name": "Python 3"
    },
    "language_info": {
      "name": "python"
    }
  },
  "cells": [
    {
      "cell_type": "markdown",
      "metadata": {
        "id": "view-in-github",
        "colab_type": "text"
      },
      "source": [
        "<a href=\"https://colab.research.google.com/github/manuelboi/AI_project/blob/main/AI_project.ipynb\" target=\"_parent\"><img src=\"https://colab.research.google.com/assets/colab-badge.svg\" alt=\"Open In Colab\"/></a>"
      ]
    },
    {
      "cell_type": "code",
      "execution_count": 2,
      "metadata": {
        "id": "NLSwyNFwHXUQ"
      },
      "outputs": [],
      "source": [
        "import torch\n",
        "import torch.nn as nn # Contains Required functions and layers\n",
        "import torch.nn.functional as F # For neural network functions:\n",
        "import torch.optim as optim # Contains Optimization function available in PyTorch.\n",
        "import torchvision\n",
        "import torchvision.transforms as transforms\n",
        "import matplotlib.pyplot as plt\n",
        "import numpy as np\n",
        "from math import sqrt\n",
        "import sys\n",
        "from itertools import product\n",
        "from importlib.util import find_spec\n",
        "\n",
        "if find_spec(\"torchmetrics\") is None:\n",
        "  !pip install torchmetrics\n",
        "from torchmetrics.functional import pairwise_euclidean_distance\n",
        "import pickle\n",
        "from urllib.request import urlopen\n"
      ]
    },
    {
      "cell_type": "code",
      "source": [
        "def show_single_letter(xi):\n",
        "  xi_dim = xi.shape[0]\n",
        "  vmax = torch.max(xi)\n",
        "\n",
        "  ax = plt.gca()\n",
        "  ax.grid(color='r')\n",
        "  plt.xticks(range(0, xi_dim+1), fontsize=5)\n",
        "  plt.yticks(range(0, xi_dim+1), fontsize=5)\n",
        "  # specific values associated to \"extent\" attribute in order to place pixel positions precisely in the plot\n",
        "  # Note: imshow plot white either if all pixels = 0 or all pixels = 255. To\n",
        "  # display black when all values = 255, use vmin=0 and vmax=255\n",
        "  plt.imshow(xi, extent=(0, xi_dim, xi_dim, 0), cmap='Greys', vmin=0, vmax=vmax)\n",
        "\n",
        "def show_letters(x, n=10):\n",
        "  for i in range(n**2):\n",
        "    plt.subplot(n, n, i+1)\n",
        "    plt.imshow(x[i], cmap=\"Greys\")\n",
        "    plt.axis(\"off\")\n",
        "\n",
        "\n",
        "DIM_IMG = 28\n",
        "INPUT_SIZE = DIM_IMG ** 2\n",
        "NUM_CLASSES = 26\n",
        "MIN_VALUE = 0\n",
        "MAX_VALUE = 255\n",
        "\n",
        "# 124800 training set images\n",
        "train_set = torchvision.datasets.EMNIST(root=\"data\", split=\"letters\",\n",
        "                                        train=True, download=True,\n",
        "                                        transform=transforms.ToTensor())\n",
        "\n",
        "# 20800 test set images\n",
        "test_set = torchvision.datasets.EMNIST(root=\"data\", split=\"letters\",\n",
        "                                       train=False,\n",
        "                                       transform=transforms.ToTensor())\n",
        "\n",
        "# avoid to do assignment every time I execute the cell again\n",
        "if \"tr_images\" not in globals():\n",
        "  # create a tensor from a list of training samples, where each of them has been transposed and converted into a list\n",
        "  # PROBLEM: not really efficient, it takes a while to execute\n",
        "  tr_images = torch.tensor([image.T.tolist() for image in train_set.data])\n",
        "#tr_images = train_set.data\n",
        "labels = train_set.targets\n",
        "for i,val in enumerate(labels):\n",
        "  labels[i]=val-1\n",
        "\n",
        "test_labels = test_set.targets\n",
        "for i,val in enumerate(test_labels):\n",
        "  test_labels[i]=val-1\n",
        "classes = train_set.classes\n",
        "print(classes)\n",
        "\n",
        "if \"test_images\" not in globals():\n",
        "  test_images = torch.tensor([image.T.tolist() for image in test_set.data])\n",
        "\n",
        "show_letters(tr_images, 12)\n",
        "\n",
        "\n",
        "#print(tr_images.size())\n",
        "\n",
        "dim_mask = 4\n",
        "\n",
        "print(labels)\n",
        "print(type(labels[2].item()))\n",
        "print(min(labels))\n",
        "print(max(labels))\n",
        "\n",
        "\n"
      ],
      "metadata": {
        "id": "PZG8udJCP8HY",
        "colab": {
          "base_uri": "https://localhost:8080/",
          "height": 493
        },
        "outputId": "b4759794-8a52-4234-aae4-066fc11d37df"
      },
      "execution_count": 3,
      "outputs": [
        {
          "output_type": "stream",
          "name": "stdout",
          "text": [
            "['N/A', 'a', 'b', 'c', 'd', 'e', 'f', 'g', 'h', 'i', 'j', 'k', 'l', 'm', 'n', 'o', 'p', 'q', 'r', 's', 't', 'u', 'v', 'w', 'x', 'y', 'z']\n",
            "tensor([22,  6, 15,  ..., 12, 14, 18])\n",
            "<class 'int'>\n",
            "tensor(0)\n",
            "tensor(25)\n"
          ]
        },
        {
          "output_type": "display_data",
          "data": {
            "text/plain": [
              "<Figure size 640x480 with 144 Axes>"
            ],
            "image/png": "[encoded data removed]"
          },
          "metadata": {}
        }
      ]
    },
    {
      "cell_type": "markdown",
      "source": [
        "IF YOU WANT TO LOAD CUSTOM DATASET DIRECTLY, RUN ONLY THE CODE ABOVE, THEN RESUME EXECUTION FROM CELL \"ELIA - DATASET CREATION\""
      ],
      "metadata": {
        "id": "Hb1glRzSZXoU"
      }
    },
    {
      "cell_type": "markdown",
      "source": [
        "Understanding tensors"
      ],
      "metadata": {
        "id": "nKpcGDYv9j08"
      }
    },
    {
      "cell_type": "code",
      "source": [
        "\"\"\"print(tr_images)\n",
        "print(tr_images.size())\n",
        "print(tr_images[0])\n",
        "print(tr_images[0].size())\"\"\""
      ],
      "metadata": {
        "id": "tNqiXFct9jI_",
        "outputId": "4ab9f93a-291b-4bd7-a77f-c8aa33f9bcb4",
        "colab": {
          "base_uri": "https://localhost:8080/",
          "height": 36
        }
      },
      "execution_count": 4,
      "outputs": [
        {
          "output_type": "execute_result",
          "data": {
            "text/plain": [
              "'print(tr_images)\\nprint(tr_images.size())\\nprint(tr_images[0])\\nprint(tr_images[0].size())'"
            ],
            "application/vnd.google.colaboratory.intrinsic+json": {
              "type": "string"
            }
          },
          "metadata": {},
          "execution_count": 4
        }
      ]
    },
    {
      "cell_type": "code",
      "source": [
        "show_single_letter(tr_images[0])"
      ],
      "metadata": {
        "id": "2QiklEyX8Ac8",
        "outputId": "a805d90f-8924-4b67-f8a2-d20544e2e2a5",
        "colab": {
          "base_uri": "https://localhost:8080/",
          "height": 424
        }
      },
      "execution_count": 5,
      "outputs": [
        {
          "output_type": "display_data",
          "data": {
            "text/plain": [
              "<Figure size 640x480 with 1 Axes>"
            ],
            "image/png": "[encoded data removed]"
          },
          "metadata": {}
        }
      ]
    },
    {
      "cell_type": "markdown",
      "source": [
        "Elia - Binarizzazione dell'immagine"
      ],
      "metadata": {
        "id": "FYNgLDfBjHiJ"
      }
    },
    {
      "cell_type": "code",
      "source": [
        "''' UNCOMMENT TO COMPUTE AGAIN FEATURES\n",
        "\n",
        "def binarize(image, threshold, max_value):\n",
        "  return (image > threshold) * max_value\n",
        "\n",
        "threshold = 128\n",
        "\n",
        "tr_images_bin=torch.zeros(tr_images.size())\n",
        "for i in range(tr_images.size()[0]):\n",
        "  tr_images_bin[i] = binarize(tr_images[i], threshold, MAX_VALUE)\n",
        "\n",
        "test_images_bin=torch.zeros(test_images.size())\n",
        "for i in range(test_images.size()[0]):\n",
        "  test_images_bin[i] = binarize(test_images[i], threshold, MAX_VALUE)\n",
        "\n",
        "#show_letters(tr_images_bin)\n",
        "show_single_letter(tr_images_bin[0])\n",
        "\n",
        "'''\n"
      ],
      "metadata": {
        "id": "Yoxr6ef7_TZS",
        "outputId": "e27bdda4-2716-4510-dfab-43d143627969",
        "colab": {
          "base_uri": "https://localhost:8080/",
          "height": 70
        }
      },
      "execution_count": 6,
      "outputs": [
        {
          "output_type": "execute_result",
          "data": {
            "text/plain": [
              "' UNCOMMENT TO COMPUTE AGAIN FEATURES\\n\\ndef binarize(image, threshold, max_value):\\n  return (image > threshold) * max_value\\n\\nthreshold = 128\\n\\ntr_images_bin=torch.zeros(tr_images.size())\\nfor i in range(tr_images.size()[0]):\\n  tr_images_bin[i] = binarize(tr_images[i], threshold, MAX_VALUE)\\n\\ntest_images_bin=torch.zeros(test_images.size())\\nfor i in range(test_images.size()[0]):\\n  test_images_bin[i] = binarize(test_images[i], threshold, MAX_VALUE)\\n\\n#show_letters(tr_images_bin)\\nshow_single_letter(tr_images_bin[0])\\n\\n'"
            ],
            "application/vnd.google.colaboratory.intrinsic+json": {
              "type": "string"
            }
          },
          "metadata": {},
          "execution_count": 6
        }
      ]
    },
    {
      "cell_type": "markdown",
      "source": [
        "Matteo: Implementazione della maschera per scheletrizzazione immagine.\n",
        "Elia: Zoning density features"
      ],
      "metadata": {
        "id": "vCqNCPSF8BCm"
      }
    },
    {
      "cell_type": "code",
      "source": [
        "''' UNCOMMENT TO COMPUTE AGAIN FEATURES\n",
        "\n",
        "def compute_centroid(image):\n",
        "  xis, yis = np.nonzero(image.numpy())\n",
        "  if xis.size or yis.size != 0:\n",
        "    return int(xis.mean()), int(yis.mean())\n",
        "  return None, None\n",
        "\n",
        "\n",
        "\n",
        "# Elia\n",
        "def compute_density(image):\n",
        "  return torch.sum(image).item() // MAX_VALUE\n",
        "\n",
        "\n",
        "\n",
        "def show_subimages(image):\n",
        "  n_mask_positions = INPUT_SIZE / (dim_mask ** 2)\n",
        "  n_plots = int(sqrt(n_mask_positions))\n",
        "\n",
        "  # cartesian product between \"range(0, DIM_IMG, dim_mask)\" and \"range(0, DIM_IMG, dim_mask)\"\n",
        "  prod_range = product(range(0, DIM_IMG, dim_mask), repeat=2)\n",
        "  # enumerate assign a counter value to every combination (i, j): (0, 0) --> 1, (0, 1) --> 2, ...\n",
        "  for a, (i, j) in enumerate(prod_range, start=1):\n",
        "    if a > n_mask_positions:\n",
        "      break\n",
        "\n",
        "    sub_img = image[i:i+dim_mask, j:j+dim_mask]\n",
        "    plt.subplot(n_plots, n_plots, a)\n",
        "    show_single_letter(sub_img)\n",
        "\n",
        "\n",
        "\n",
        "def sampling_zoning(image):\n",
        "\n",
        "  if DIM_IMG % dim_mask != 0:\n",
        "    return None, None\n",
        "\n",
        "  centroids_abs = []\n",
        "  centroids_rel = []\n",
        "\n",
        "  # image that will be obtained from the computed centroids\n",
        "  sample_img = torch.zeros(image.size())\n",
        "  # be careful: at the beginning the mask moves from left to right, then from right\n",
        "  # to left and so on (right to left when \"i\" is odd)\n",
        "\n",
        "  prod_range = product(range(0, DIM_IMG, dim_mask), repeat=2)\n",
        "  for i, j in prod_range:\n",
        "      sub_img = image[i:i+dim_mask, j:j+dim_mask]\n",
        "      c_ri, c_ci = compute_centroid(sub_img)\n",
        "\n",
        "      if (c_ri, c_ci) != (None, None):\n",
        "        sample_img[c_ri+i, c_ci+j] = MAX_VALUE # max_value is 255\n",
        "        centroids_abs.append([c_ri+i, c_ci+j])\n",
        "        centroids_rel.append([c_ri+1, c_ci+1])\n",
        "      else:\n",
        "        centroids_rel.append([0, 0])\n",
        "\n",
        "  return sample_img, centroids_abs, centroids_rel\n",
        "\n",
        "\n",
        "# Elia\n",
        "def density_zoning(image):\n",
        "  densities = []\n",
        "\n",
        "  # image that will be obtained from the computed densities\n",
        "  density_img = torch.zeros(image.size())\n",
        "  # be careful: at the beginning the mask moves from left to right, then from right\n",
        "  # to left and so on (right to left everytime \"i\" is odd)\n",
        "\n",
        "  prod_range = product(range(0, DIM_IMG, dim_mask), repeat=2)\n",
        "  for (i, j) in prod_range:\n",
        "    sub_img = image[i:i+dim_mask, j:j+dim_mask]\n",
        "    density = compute_density(sub_img)\n",
        "    density_img[i:i+dim_mask, j:j+dim_mask] = density\n",
        "    densities.append(density)\n",
        "\n",
        "  return density_img, densities\n",
        "\n",
        "\n",
        "\n",
        "def zoning(image, option=\"sampling\"):\n",
        "  if DIM_IMG % dim_mask != 0:\n",
        "    return None, None\n",
        "\n",
        "  if option == \"density\":\n",
        "    density_img, densities = density_zoning(image)\n",
        "    return density_img, densities\n",
        "\n",
        "  sample_img, centroids_abs, centroids_rel = sampling_zoning(image)\n",
        "  return sample_img, centroids_abs, centroids_rel\n",
        "\n",
        "\n",
        "\n",
        "\n",
        "def load_sample_images(tr_images_bin):\n",
        "  tr_images_cen=torch.zeros(tr_images_bin.size())\n",
        "  list_cen_abs=[]\n",
        "  list_cen_rel=[]\n",
        "  for i in range(tr_images_bin.size()[0]):\n",
        "    tr_images_cen[i], abs, rel = zoning(tr_images_bin[i])\n",
        "    list_cen_abs.append(abs)\n",
        "    list_cen_rel.append(rel)\n",
        "\n",
        "  return tr_images_cen, list_cen_abs, list_cen_rel\n",
        "\n",
        "\n",
        "\n",
        "\n",
        "bin_img = tr_images_bin[10]\n",
        "\n",
        "sample_img, centroids_abs, centroids_rel = zoning(bin_img)\n",
        "\n",
        "# If (None, None) is returned it means an error occurred in the application\n",
        "# of mask and step.\n",
        "if (sample_img, centroids_abs) == (None, None):\n",
        "  print(f\"Error: the dimension of the mask need to be a factor of {DIM_IMG}.\")\n",
        "  sys.exit()\n",
        "\n",
        "\n",
        "print(\"Centroids_abs: \\n\", centroids_abs)\n",
        "print(\"Centroids_rel: \\n\", centroids_rel)\n",
        "\n",
        "plt.figure(1)\n",
        "show_subimages(bin_img)\n",
        "plt.figure(2)\n",
        "plt.subplot(121)\n",
        "show_single_letter(bin_img)\n",
        "plt.subplot(122)\n",
        "show_single_letter(sample_img)\n",
        "\n",
        "\"\"\"# tr_sample_images is a tensor, sample_centroids is an array of list ( shape: [ [ [x, y], [x, y], ... ], [ [x, y], [x, y], ... ], ... ] )\n",
        "tr_sample_images, sample_centroids = load_sample_images(tr_images_bin[0:10], dim_mask)\n",
        "print(tr_sample_images.size())\n",
        "print(sample_centroids) \"\"\"\n",
        "\n",
        "'''\n"
      ],
      "metadata": {
        "colab": {
          "base_uri": "https://localhost:8080/",
          "height": 123
        },
        "id": "VT2WVlGzjwxH",
        "outputId": "b1d91326-a079-4fbf-b27f-7f3620e3e072"
      },
      "execution_count": 7,
      "outputs": [
        {
          "output_type": "execute_result",
          "data": {
            "text/plain": [
              "' UNCOMMENT TO COMPUTE AGAIN FEATURES\\n\\ndef compute_centroid(image):\\n  xis, yis = np.nonzero(image.numpy())\\n  if xis.size or yis.size != 0:\\n    return int(xis.mean()), int(yis.mean())\\n  return None, None\\n\\n\\n\\n# Elia\\ndef compute_density(image):\\n  return torch.sum(image).item() // MAX_VALUE\\n\\n\\n\\ndef show_subimages(image):\\n  n_mask_positions = INPUT_SIZE / (dim_mask ** 2)\\n  n_plots = int(sqrt(n_mask_positions))\\n\\n  # cartesian product between \"range(0, DIM_IMG, dim_mask)\" and \"range(0, DIM_IMG, dim_mask)\"\\n  prod_range = product(range(0, DIM_IMG, dim_mask), repeat=2)\\n  # enumerate assign a counter value to every combination (i, j): (0, 0) --> 1, (0, 1) --> 2, ...\\n  for a, (i, j) in enumerate(prod_range, start=1):\\n    if a > n_mask_positions:\\n      break\\n\\n    sub_img = image[i:i+dim_mask, j:j+dim_mask]\\n    plt.subplot(n_plots, n_plots, a)\\n    show_single_letter(sub_img)\\n\\n\\n\\ndef sampling_zoning(image):\\n\\n  if DIM_IMG % dim_mask != 0:\\n    return None, None\\n\\n  centroids_abs = []\\n  centroids_rel = []\\n\\n  # image that will be obtained from the computed centroids\\n  sample_img = torch.zeros(image.size())\\n  # be careful: at the beginning the mask moves from left to right, then from right\\n  # to left and so on (right to left when \"i\" is odd)\\n\\n  prod_range = product(range(0, DIM_IMG, dim_mask), repeat=2)\\n  for i, j in prod_range:\\n      sub_img = image[i:i+dim_mask, j:j+dim_mask]\\n      c_ri, c_ci = compute_centroid(sub_img)\\n\\n      if (c_ri, c_ci) != (None, None):\\n        sample_img[c_ri+i, c_ci+j] = MAX_VALUE # max_value is 255\\n        centroids_abs.append([c_ri+i, c_ci+j])\\n        centroids_rel.append([c_ri+1, c_ci+1])\\n      else:\\n        centroids_rel.append([0, 0])\\n\\n  return sample_img, centroids_abs, centroids_rel\\n\\n\\n# Elia\\ndef density_zoning(image):\\n  densities = []\\n\\n  # image that will be obtained from the computed densities\\n  density_img = torch.zeros(image.size())\\n  # be careful: at the beginning the mask moves from left to right, then from right\\n  # to left and so on (right to left everytime \"i\" is odd)\\n\\n  prod_range = product(range(0, DIM_IMG, dim_mask), repeat=2)\\n  for (i, j) in prod_range:\\n    sub_img = image[i:i+dim_mask, j:j+dim_mask]\\n    density = compute_density(sub_img)\\n    density_img[i:i+dim_mask, j:j+dim_mask] = density\\n    densities.append(density)\\n\\n  return density_img, densities\\n\\n\\n\\ndef zoning(image, option=\"sampling\"):\\n  if DIM_IMG % dim_mask != 0:\\n    return None, None\\n\\n  if option == \"density\":\\n    density_img, densities = density_zoning(image)\\n    return density_img, densities\\n\\n  sample_img, centroids_abs, centroids_rel = sampling_zoning(image)\\n  return sample_img, centroids_abs, centroids_rel\\n\\n\\n\\n\\ndef load_sample_images(tr_images_bin):\\n  tr_images_cen=torch.zeros(tr_images_bin.size())\\n  list_cen_abs=[]\\n  list_cen_rel=[]\\n  for i in range(tr_images_bin.size()[0]):\\n    tr_images_cen[i], abs, rel = zoning(tr_images_bin[i])\\n    list_cen_abs.append(abs)\\n    list_cen_rel.append(rel)\\n\\n  return tr_images_cen, list_cen_abs, list_cen_rel\\n\\n\\n\\n\\nbin_img = tr_images_bin[10]\\n\\nsample_img, centroids_abs, centroids_rel = zoning(bin_img)\\n\\n# If (None, None) is returned it means an error occurred in the application\\n# of mask and step.\\nif (sample_img, centroids_abs) == (None, None):\\n  print(f\"Error: the dimension of the mask need to be a factor of {DIM_IMG}.\")\\n  sys.exit()\\n\\n\\nprint(\"Centroids_abs: \\n\", centroids_abs)\\nprint(\"Centroids_rel: \\n\", centroids_rel)\\n\\nplt.figure(1)\\nshow_subimages(bin_img)\\nplt.figure(2)\\nplt.subplot(121)\\nshow_single_letter(bin_img)\\nplt.subplot(122)\\nshow_single_letter(sample_img)\\n\\n\"\"\"# tr_sample_images is a tensor, sample_centroids is an array of list ( shape: [ [ [x, y], [x, y], ... ], [ [x, y], [x, y], ... ], ... ] )\\ntr_sample_images, sample_centroids = load_sample_images(tr_images_bin[0:10], dim_mask)\\nprint(tr_sample_images.size())\\nprint(sample_centroids) \"\"\"\\n\\n'"
            ],
            "application/vnd.google.colaboratory.intrinsic+json": {
              "type": "string"
            }
          },
          "metadata": {},
          "execution_count": 7
        }
      ]
    },
    {
      "cell_type": "code",
      "source": [
        "''' UNCOMMENT TO COMPUTE AGAIN FEATURES\n",
        "\n",
        "tr_sample_images, list_centroids_abs, list_centroids_rel = load_sample_images(tr_images_bin)\n",
        "ts_sample_images, ts_list_centroids_abs, ts_list_centroids_rel = load_sample_images(test_images_bin)\n",
        "\n",
        "show_letters(tr_sample_images, 12)\n",
        "\n",
        "'''"
      ],
      "metadata": {
        "id": "r2rMMBxwBdot",
        "colab": {
          "base_uri": "https://localhost:8080/",
          "height": 53
        },
        "outputId": "fa482e76-cc97-4abb-fa82-3654312b8ef3"
      },
      "execution_count": 8,
      "outputs": [
        {
          "output_type": "execute_result",
          "data": {
            "text/plain": [
              "' UNCOMMENT TO COMPUTE AGAIN FEATURES\\n\\ntr_sample_images, list_centroids_abs, list_centroids_rel = load_sample_images(tr_images_bin)\\nts_sample_images, ts_list_centroids_abs, ts_list_centroids_rel = load_sample_images(test_images_bin)\\n\\nshow_letters(tr_sample_images, 12)\\n\\n'"
            ],
            "application/vnd.google.colaboratory.intrinsic+json": {
              "type": "string"
            }
          },
          "metadata": {},
          "execution_count": 8
        }
      ]
    },
    {
      "cell_type": "code",
      "source": [
        "''' UNCOMMENT TO COMPUTE AGAIN FEATURES\n",
        "\n",
        "# zoning with density features\n",
        "density_img, densities = zoning(bin_img, option=\"density\")\n",
        "\n",
        "if (density_img, densities) == (None, None):\n",
        "  print(f\"Error: the dimension of the mask need to be a factor of {DIM_IMG}.\")\n",
        "  sys.exit()\n",
        "\n",
        "plt.figure(1)\n",
        "show_subimages(bin_img)\n",
        "plt.figure(2)\n",
        "plt.subplot(121)\n",
        "show_single_letter(bin_img)\n",
        "plt.subplot(122)\n",
        "show_single_letter(density_img)\n",
        "\n",
        "'''"
      ],
      "metadata": {
        "id": "uGGgy_OfB7p6",
        "outputId": "f81407b1-c80e-4d1d-8f2b-279c7fc1af57",
        "colab": {
          "base_uri": "https://localhost:8080/",
          "height": 70
        }
      },
      "execution_count": 9,
      "outputs": [
        {
          "output_type": "execute_result",
          "data": {
            "text/plain": [
              "' UNCOMMENT TO COMPUTE AGAIN FEATURES\\n\\n# zoning with density features\\ndensity_img, densities = zoning(bin_img, option=\"density\")\\n\\nif (density_img, densities) == (None, None):\\n  print(f\"Error: the dimension of the mask need to be a factor of {DIM_IMG}.\")\\n  sys.exit()\\n\\nplt.figure(1)\\nshow_subimages(bin_img)\\nplt.figure(2)\\nplt.subplot(121)\\nshow_single_letter(bin_img)\\nplt.subplot(122)\\nshow_single_letter(density_img)\\n\\n'"
            ],
            "application/vnd.google.colaboratory.intrinsic+json": {
              "type": "string"
            }
          },
          "metadata": {},
          "execution_count": 9
        }
      ]
    },
    {
      "cell_type": "code",
      "source": [
        "''' UNCOMMENT TO COMPUTE AGAIN FEATURES\n",
        "\n",
        "def load_densities(tr_images_bin):\n",
        "  tr_images_den=torch.zeros(tr_images_bin.size())\n",
        "  list_densities=[]\n",
        "  for i in range(tr_images_bin.size()[0]):\n",
        "    tr_images_den[i], den = zoning(tr_images_bin[i], option=\"density\")\n",
        "    list_densities.append(den)\n",
        "\n",
        "  return tr_images_den, list_densities\n",
        "\n",
        "tr_densities, list_densities = load_densities(tr_images_bin)\n",
        "ts_densities, ts_list_densities = load_densities(test_images_bin)\n",
        "\n",
        "'''"
      ],
      "metadata": {
        "id": "ERQcbDmlMhB3",
        "outputId": "b03a15a1-584d-422a-a58d-612879602a7d",
        "colab": {
          "base_uri": "https://localhost:8080/",
          "height": 70
        }
      },
      "execution_count": 10,
      "outputs": [
        {
          "output_type": "execute_result",
          "data": {
            "text/plain": [
              "' UNCOMMENT TO COMPUTE AGAIN FEATURES\\n\\ndef load_densities(tr_images_bin):\\n  tr_images_den=torch.zeros(tr_images_bin.size())\\n  list_densities=[]\\n  for i in range(tr_images_bin.size()[0]):\\n    tr_images_den[i], den = zoning(tr_images_bin[i], option=\"density\")\\n    list_densities.append(den)\\n\\n  return tr_images_den, list_densities\\n\\ntr_densities, list_densities = load_densities(tr_images_bin)\\nts_densities, ts_list_densities = load_densities(test_images_bin)\\n\\n'"
            ],
            "application/vnd.google.colaboratory.intrinsic+json": {
              "type": "string"
            }
          },
          "metadata": {},
          "execution_count": 10
        }
      ]
    },
    {
      "cell_type": "code",
      "source": [
        "''' UNCOMMENT TO COMPUTE AGAIN FEATURES\n",
        "\n",
        "show_letters(tr_densities, 12)\n",
        "\n",
        "'''"
      ],
      "metadata": {
        "id": "wGj6QagOOIDm",
        "outputId": "0d723b6f-70a9-4e20-cd79-9179bb5c035a",
        "colab": {
          "base_uri": "https://localhost:8080/",
          "height": 36
        }
      },
      "execution_count": 11,
      "outputs": [
        {
          "output_type": "execute_result",
          "data": {
            "text/plain": [
              "' UNCOMMENT TO COMPUTE AGAIN FEATURES\\n\\nshow_letters(tr_densities, 12)\\n\\n'"
            ],
            "application/vnd.google.colaboratory.intrinsic+json": {
              "type": "string"
            }
          },
          "metadata": {},
          "execution_count": 11
        }
      ]
    },
    {
      "cell_type": "markdown",
      "source": [
        "Matteo: finding angles between pairs of centroids"
      ],
      "metadata": {
        "id": "6wcbZRlpC7Ef"
      }
    },
    {
      "cell_type": "code",
      "source": [
        "''' UNCOMMENT TO COMPUTE AGAIN FEATURES\n",
        "\n",
        "def angle_between(c_1, c_2, swap=False):\n",
        "\n",
        "  # PROBLEM: WHY the condition we wish is swap = True?\n",
        "  # CHECK THE CODE AGAIN\n",
        "\n",
        "  #swap is necessary when we consider the plot of imshow\n",
        "  #in imshow plot, the shown y-axis is actually the x-axis of the image, and vice versa.\n",
        "  # For this reason the shape of centroid \"(x, y)\" in imshow plot corresponds to (y, x)\n",
        "  # So you need to swap the coordinates of the parameters passed to \"angle_between\"\n",
        "\n",
        "  y = torch.tensor([c_1[0, 1] - c_2[0, 1]])\n",
        "  x = torch.tensor([c_1[0, 0] - c_2[0, 0]])\n",
        "\n",
        "  if swap:\n",
        "    return torch.atan2(x, y) * 180 / torch.pi\n",
        "  return torch.atan2(y, x) * 180 / torch.pi\n",
        "\n",
        "\n",
        "# Dictionary returned: {(c1, c2): angle_c1c2, (c1, c3): angle_c1c3, (c2, c3): angle_c3c2 ...)} <-- pairs of centroids\n",
        "# it represents every segment (of the form \"s = (c1, c2)\"\", for example) and the angle between the segment and the x axis\n",
        "# PROBLEM: check again the method --> results are different than before\n",
        "def rebuild_letter(sample_img):\n",
        "  # \"nearest subimage\" concept: considering a certain subimage (same dimension of the chosen mask),\n",
        "  # the nearest ones are the ones which change either the value of a row or the value of a column only,\n",
        "  # and never both together, with respect to the considered subimage.\n",
        "\n",
        "  segments = {}\n",
        "  adder = dim_mask\n",
        "\n",
        "  prod_range = product(range(0, DIM_IMG, dim_mask), repeat=2)\n",
        "  for i, j in prod_range:\n",
        "      new_i = i + dim_mask\n",
        "      new_j = j + dim_mask\n",
        "      sub_img = sample_img[i:new_i, j:new_j]\n",
        "\n",
        "      # extract centroid coordinates from sub_img\n",
        "      curr_cent = torch.nonzero(sub_img)\n",
        "      # check if the tensor is not \"empty\"\n",
        "      if torch.numel(curr_cent) != 0:\n",
        "        # now current centroid refers to the actual one, considering the current i and j in sample image\n",
        "        curr_cent = torch.tensor([curr_cent[0, 0].item() + i,\n",
        "                                  curr_cent[0, 1].item() + j]).reshape(1, 2)\n",
        "\n",
        "        # finding all the nearest subimages:\n",
        "        # z = 0: adder = dim_mask, new_i considered; z = 1: adder = -dim_mask, new_i considered;\n",
        "        # z = 2: adder = dim_mask, new_j considered; z = 3: adder = -dim_mask, new_j considered\n",
        "        # neighbours for the centroid being analyzed\n",
        "        for z in range(4):\n",
        "          if z >= 2:\n",
        "            pair_i = [i, new_i]\n",
        "            pair_j = [j+adder, new_j+adder]\n",
        "            pair_cond = pair_j\n",
        "          else:\n",
        "            pair_i = [i+adder, new_i+adder]\n",
        "            pair_j = [j, new_j]\n",
        "            pair_cond = pair_i\n",
        "\n",
        "          neigh_subimg = torch.tensor([])\n",
        "          neigh_cent = torch.tensor([])\n",
        "\n",
        "          if (0 <= pair_cond[0] <= DIM_IMG - 1) and (0 <= pair_cond[1] <= DIM_IMG - 1):\n",
        "            neigh_subimg = sample_img[pair_i[0]:pair_i[1], pair_j[0]:pair_j[1]]\n",
        "            neigh_cent = torch.nonzero(neigh_subimg)\n",
        "            if torch.numel(neigh_cent) != 0:\n",
        "              neigh_cent = torch.tensor([neigh_cent[0, 0].item() + pair_i[0],\n",
        "                                         neigh_cent[0, 1].item() + pair_j[0]]).reshape(1, 2)\n",
        "\n",
        "          # neigh_cent empty --> no centroid found in that neighbour sub_img\n",
        "          if torch.numel(neigh_cent) != 0:\n",
        "            curr_cent_tpl = (curr_cent[0, 0].item(), curr_cent[0, 1].item())\n",
        "            neigh_cent_tpl = (neigh_cent[0, 0].item(), neigh_cent[0, 1].item())\n",
        "\n",
        "            if (curr_cent_tpl, neigh_cent_tpl) not in segments and (neigh_cent_tpl, curr_cent_tpl) not in segments:\n",
        "              if pairwise_euclidean_distance(curr_cent, neigh_cent) < dim_mask + 1:\n",
        "                angle = angle_between(curr_cent, neigh_cent, True).item()\n",
        "                segments[(curr_cent_tpl, neigh_cent_tpl)] = angle\n",
        "\n",
        "          adder = -(adder)\n",
        "\n",
        "  return segments\n",
        "\n",
        "\n",
        "\n",
        "def show_letter_from_segments(segments):\n",
        "  # It shows the \"rebuilt\" letter starting from segments and angles found\n",
        "  x1 = []\n",
        "  x2 = []\n",
        "  y1 = []\n",
        "  y2 = []\n",
        "\n",
        "  for couple_cents in segments:\n",
        "    x1.append(couple_cents[0][1])\n",
        "    y1.append(couple_cents[0][0])\n",
        "    x2.append(couple_cents[1][1])\n",
        "    y2.append(couple_cents[1][0])\n",
        "\n",
        "  # ARRAY X: [[12, 16, 18, 11], [16, 18, 15, 15]]\n",
        "  # ARRAY Y: [[4, 4, 10, 10], [4, 10, 14, 14]]\n",
        "  # (12, 4) connects to (16,4), (16,4) to (18,10), (18,10) to (15,14)...\n",
        "  x = np.array([x1, x2])\n",
        "  y = np.array([y1, y2])\n",
        "\n",
        "  print(\"Y:\", y)\n",
        "  print(\"X:\", x)\n",
        "\n",
        "  plt.plot(x, y, \"-o\")\n",
        "  plt.axis([0, 28, 28, 0])\n",
        "  for i in range(y.shape[1]):\n",
        "    plt.annotate(f\"{i+1}\", (x[0, i], y[0, i]))\n",
        "\n",
        "  plt.xticks(range(0, 29))\n",
        "  plt.yticks(range(0, 29))\n",
        "  ax = plt.gca()\n",
        "  ax.grid(color='r')\n",
        "  plt.show()\n",
        "\n",
        "\n",
        "\n",
        "\n",
        "sample_img, centroids, _ = zoning(bin_img)\n",
        "\n",
        "segments = rebuild_letter(sample_img)\n",
        "\n",
        "# Calculate list of all segments for each sample\n",
        "segments_list = []\n",
        "for i in range(tr_sample_images.size()[0]):\n",
        "  segments_list.append(rebuild_letter(tr_sample_images[i]))\n",
        "ts_segments_list = []\n",
        "for i in range(ts_sample_images.size()[0]):\n",
        "  ts_segments_list.append(rebuild_letter(ts_sample_images[i]))\n",
        "\n",
        "plt.figure(2)\n",
        "plt.subplot(121)\n",
        "show_single_letter(bin_img)\n",
        "plt.subplot(122)\n",
        "show_single_letter(sample_img)\n",
        "\n",
        "plt.figure(3)\n",
        "show_letter_from_segments(segments)\n",
        "\n",
        "'''"
      ],
      "metadata": {
        "id": "iSSjZvvRCUR8",
        "outputId": "f3472d53-d2fa-4896-e6c9-0d16ae420cfd",
        "colab": {
          "base_uri": "https://localhost:8080/",
          "height": 123
        }
      },
      "execution_count": 12,
      "outputs": [
        {
          "output_type": "execute_result",
          "data": {
            "text/plain": [
              "' UNCOMMENT TO COMPUTE AGAIN FEATURES\\n\\ndef angle_between(c_1, c_2, swap=False):\\n\\n  # PROBLEM: WHY the condition we wish is swap = True?\\n  # CHECK THE CODE AGAIN\\n\\n  #swap is necessary when we consider the plot of imshow\\n  #in imshow plot, the shown y-axis is actually the x-axis of the image, and vice versa.\\n  # For this reason the shape of centroid \"(x, y)\" in imshow plot corresponds to (y, x)\\n  # So you need to swap the coordinates of the parameters passed to \"angle_between\"\\n\\n  y = torch.tensor([c_1[0, 1] - c_2[0, 1]])\\n  x = torch.tensor([c_1[0, 0] - c_2[0, 0]])\\n\\n  if swap:\\n    return torch.atan2(x, y) * 180 / torch.pi\\n  return torch.atan2(y, x) * 180 / torch.pi\\n\\n\\n# Dictionary returned: {(c1, c2): angle_c1c2, (c1, c3): angle_c1c3, (c2, c3): angle_c3c2 ...)} <-- pairs of centroids\\n# it represents every segment (of the form \"s = (c1, c2)\"\", for example) and the angle between the segment and the x axis\\n# PROBLEM: check again the method --> results are different than before\\ndef rebuild_letter(sample_img):\\n  # \"nearest subimage\" concept: considering a certain subimage (same dimension of the chosen mask),\\n  # the nearest ones are the ones which change either the value of a row or the value of a column only,\\n  # and never both together, with respect to the considered subimage.\\n\\n  segments = {}\\n  adder = dim_mask\\n\\n  prod_range = product(range(0, DIM_IMG, dim_mask), repeat=2)\\n  for i, j in prod_range:\\n      new_i = i + dim_mask\\n      new_j = j + dim_mask\\n      sub_img = sample_img[i:new_i, j:new_j]\\n\\n      # extract centroid coordinates from sub_img\\n      curr_cent = torch.nonzero(sub_img)\\n      # check if the tensor is not \"empty\"\\n      if torch.numel(curr_cent) != 0:\\n        # now current centroid refers to the actual one, considering the current i and j in sample image\\n        curr_cent = torch.tensor([curr_cent[0, 0].item() + i,\\n                                  curr_cent[0, 1].item() + j]).reshape(1, 2)\\n\\n        # finding all the nearest subimages:\\n        # z = 0: adder = dim_mask, new_i considered; z = 1: adder = -dim_mask, new_i considered;\\n        # z = 2: adder = dim_mask, new_j considered; z = 3: adder = -dim_mask, new_j considered\\n        # neighbours for the centroid being analyzed\\n        for z in range(4):\\n          if z >= 2:\\n            pair_i = [i, new_i]\\n            pair_j = [j+adder, new_j+adder]\\n            pair_cond = pair_j\\n          else:\\n            pair_i = [i+adder, new_i+adder]\\n            pair_j = [j, new_j]\\n            pair_cond = pair_i\\n\\n          neigh_subimg = torch.tensor([])\\n          neigh_cent = torch.tensor([])\\n\\n          if (0 <= pair_cond[0] <= DIM_IMG - 1) and (0 <= pair_cond[1] <= DIM_IMG - 1):\\n            neigh_subimg = sample_img[pair_i[0]:pair_i[1], pair_j[0]:pair_j[1]]\\n            neigh_cent = torch.nonzero(neigh_subimg)\\n            if torch.numel(neigh_cent) != 0:\\n              neigh_cent = torch.tensor([neigh_cent[0, 0].item() + pair_i[0],\\n                                         neigh_cent[0, 1].item() + pair_j[0]]).reshape(1, 2)\\n\\n          # neigh_cent empty --> no centroid found in that neighbour sub_img\\n          if torch.numel(neigh_cent) != 0:\\n            curr_cent_tpl = (curr_cent[0, 0].item(), curr_cent[0, 1].item())\\n            neigh_cent_tpl = (neigh_cent[0, 0].item(), neigh_cent[0, 1].item())\\n\\n            if (curr_cent_tpl, neigh_cent_tpl) not in segments and (neigh_cent_tpl, curr_cent_tpl) not in segments:\\n              if pairwise_euclidean_distance(curr_cent, neigh_cent) < dim_mask + 1:\\n                angle = angle_between(curr_cent, neigh_cent, True).item()\\n                segments[(curr_cent_tpl, neigh_cent_tpl)] = angle\\n\\n          adder = -(adder)\\n\\n  return segments\\n\\n\\n\\ndef show_letter_from_segments(segments):\\n  # It shows the \"rebuilt\" letter starting from segments and angles found\\n  x1 = []\\n  x2 = []\\n  y1 = []\\n  y2 = []\\n\\n  for couple_cents in segments:\\n    x1.append(couple_cents[0][1])\\n    y1.append(couple_cents[0][0])\\n    x2.append(couple_cents[1][1])\\n    y2.append(couple_cents[1][0])\\n\\n  # ARRAY X: [[12, 16, 18, 11], [16, 18, 15, 15]]\\n  # ARRAY Y: [[4, 4, 10, 10], [4, 10, 14, 14]]\\n  # (12, 4) connects to (16,4), (16,4) to (18,10), (18,10) to (15,14)...\\n  x = np.array([x1, x2])\\n  y = np.array([y1, y2])\\n\\n  print(\"Y:\", y)\\n  print(\"X:\", x)\\n\\n  plt.plot(x, y, \"-o\")\\n  plt.axis([0, 28, 28, 0])\\n  for i in range(y.shape[1]):\\n    plt.annotate(f\"{i+1}\", (x[0, i], y[0, i]))\\n\\n  plt.xticks(range(0, 29))\\n  plt.yticks(range(0, 29))\\n  ax = plt.gca()\\n  ax.grid(color=\\'r\\')\\n  plt.show()\\n\\n\\n\\n\\nsample_img, centroids, _ = zoning(bin_img)\\n\\nsegments = rebuild_letter(sample_img)\\n\\n# Calculate list of all segments for each sample\\nsegments_list = []\\nfor i in range(tr_sample_images.size()[0]):\\n  segments_list.append(rebuild_letter(tr_sample_images[i]))\\nts_segments_list = []\\nfor i in range(ts_sample_images.size()[0]):\\n  ts_segments_list.append(rebuild_letter(ts_sample_images[i]))\\n\\nplt.figure(2)\\nplt.subplot(121)\\nshow_single_letter(bin_img)\\nplt.subplot(122)\\nshow_single_letter(sample_img)\\n\\nplt.figure(3)\\nshow_letter_from_segments(segments)\\n\\n'"
            ],
            "application/vnd.google.colaboratory.intrinsic+json": {
              "type": "string"
            }
          },
          "metadata": {},
          "execution_count": 12
        }
      ]
    },
    {
      "cell_type": "markdown",
      "source": [
        "Manuel - Approssimazione dell'angolo nelle 4 direzioni"
      ],
      "metadata": {
        "id": "XJlq3wqJ7ka3"
      }
    },
    {
      "cell_type": "code",
      "source": [
        "''' UNCOMMENT TO COMPUTE AGAIN FEATURES\n",
        "\n",
        "from enum import Enum\n",
        "\n",
        "class Direction(Enum):\n",
        "  HORIZONTAL = 1\n",
        "  RIGHT_INCLINED = 2\n",
        "  VERTICAL = 3\n",
        "  LEFT_INCLINED = 4\n",
        "\n",
        "  def __sub__(self, other):\n",
        "    return int(self) - other\n",
        "\n",
        "  def __div__(self, other):\n",
        "    return int(self) / other\n",
        "\n",
        "def approximate_angle(angle):\n",
        "  if (angle > -22.5 and angle <= 22.5) or (angle > 157.5 and angle >= -157.5):\n",
        "    approximation = Direction.HORIZONTAL\n",
        "  elif (angle > 22.5 and angle <= 67.5) or (angle > -157.5 and angle <= -112.5):\n",
        "    approximation = Direction.RIGHT_INCLINED\n",
        "  elif (angle > 67.5 and angle <= 112.5) or (angle > -112.5 and angle <= -67.5):\n",
        "    approximation = Direction.VERTICAL\n",
        "  else:\n",
        "    approximation = Direction.LEFT_INCLINED\n",
        "\n",
        "  return approximation\n",
        "\n",
        "def load_inclinations(segments_list):\n",
        "  list_inclinations = []\n",
        "  for sample in segments_list:\n",
        "    counts = [0, 0, 0, 0]\n",
        "    for segment in sample:\n",
        "      dictionary_value = sample[segment]\n",
        "      direction = (approximate_angle(dictionary_value))\n",
        "      if direction == Direction.HORIZONTAL:\n",
        "        counts[0] += 1\n",
        "      elif direction == Direction.RIGHT_INCLINED:\n",
        "        counts[1] += 1\n",
        "      elif direction == Direction.VERTICAL:\n",
        "        counts[2] += 1\n",
        "      else:\n",
        "        counts[3] += 1\n",
        "      list_inclinations.append(counts)\n",
        "  return list_inclinations\n",
        "\n",
        "\n",
        "\n",
        "\n",
        "list_inclinations = load_inclinations(segments_list)\n",
        "ts_list_inclinations = load_inclinations(ts_segments_list)\n",
        "\n",
        "'''\n"
      ],
      "metadata": {
        "id": "a6wYHSlW6TIi",
        "outputId": "f6a2f993-4d7e-4893-9893-af21ea7a2496",
        "colab": {
          "base_uri": "https://localhost:8080/",
          "height": 123
        }
      },
      "execution_count": 13,
      "outputs": [
        {
          "output_type": "execute_result",
          "data": {
            "text/plain": [
              "' UNCOMMENT TO COMPUTE AGAIN FEATURES\\n\\nfrom enum import Enum\\n\\nclass Direction(Enum):\\n  HORIZONTAL = 1\\n  RIGHT_INCLINED = 2\\n  VERTICAL = 3\\n  LEFT_INCLINED = 4\\n\\n  def __sub__(self, other):\\n    return int(self) - other\\n\\n  def __div__(self, other):\\n    return int(self) / other\\n\\ndef approximate_angle(angle):\\n  if (angle > -22.5 and angle <= 22.5) or (angle > 157.5 and angle >= -157.5):\\n    approximation = Direction.HORIZONTAL\\n  elif (angle > 22.5 and angle <= 67.5) or (angle > -157.5 and angle <= -112.5):\\n    approximation = Direction.RIGHT_INCLINED\\n  elif (angle > 67.5 and angle <= 112.5) or (angle > -112.5 and angle <= -67.5):\\n    approximation = Direction.VERTICAL\\n  else:\\n    approximation = Direction.LEFT_INCLINED\\n\\n  return approximation\\n\\ndef load_inclinations(segments_list):\\n  list_inclinations = []\\n  for sample in segments_list:\\n    counts = [0, 0, 0, 0]\\n    for segment in sample:\\n      dictionary_value = sample[segment]\\n      direction = (approximate_angle(dictionary_value))\\n      if direction == Direction.HORIZONTAL:\\n        counts[0] += 1\\n      elif direction == Direction.RIGHT_INCLINED:\\n        counts[1] += 1\\n      elif direction == Direction.VERTICAL:\\n        counts[2] += 1\\n      else:\\n        counts[3] += 1\\n      list_inclinations.append(counts)\\n  return list_inclinations\\n\\n\\n\\n\\nlist_inclinations = load_inclinations(segments_list)\\nts_list_inclinations = load_inclinations(ts_segments_list)\\n\\n'"
            ],
            "application/vnd.google.colaboratory.intrinsic+json": {
              "type": "string"
            }
          },
          "metadata": {},
          "execution_count": 13
        }
      ]
    },
    {
      "cell_type": "markdown",
      "source": [
        "Elia - Dataset creation"
      ],
      "metadata": {
        "id": "bThuw-cRktt1"
      }
    },
    {
      "cell_type": "code",
      "source": [
        "import os\n",
        "import pandas as pd\n",
        "from torchvision.io import read_image\n",
        "from torch.utils.data import Dataset\n",
        "\n",
        "class CustomDataset(Dataset):\n",
        "  def __init__(self, features, labels):\n",
        "    self.features = features\n",
        "    self.labels = labels\n",
        "\n",
        "  def __len__(self):\n",
        "    return len(self.labels)\n",
        "\n",
        "  def __getitem__(self, idx):\n",
        "    return self.features[idx], self.labels[idx]"
      ],
      "metadata": {
        "id": "PUprC2sZksY1"
      },
      "execution_count": 14,
      "outputs": []
    },
    {
      "cell_type": "markdown",
      "source": [
        "Manuel - Rete neurale"
      ],
      "metadata": {
        "id": "e1ObNJ_qokhw"
      }
    },
    {
      "cell_type": "code",
      "source": [
        "class NeuralNetwork(nn.Module):\n",
        "\n",
        "\n",
        "  def __init__(self, n_input, n_output):\n",
        "    super().__init__()\n",
        "    self.n_input = n_input\n",
        "    self.n_output = n_output\n",
        "    self.mid_n = int((n_input + n_output) / 2)\n",
        "\n",
        "    # Define Layers:\n",
        "    self.l1 = nn.Linear(self.n_input, self.mid_n) # layer 1\n",
        "    self.l2 = nn.Linear(self.mid_n, self.n_output) # layer 2\n",
        "    self.l3 = nn.Linear(self.n_output, self.n_output) # layer 3\n",
        "\n",
        "    # Define Activation functions:\n",
        "    self.relu = nn.ReLU()\n",
        "    self.softmax = nn.LogSoftmax(dim = 1)\n",
        "\n",
        "    # Weights initialization\n",
        "    nn.init.kaiming_normal_(self.l1.weight, mode='fan_in', nonlinearity='relu') # Using HE because more optimized for ReLU activated layers\n",
        "    nn.init.zeros_(self.l1.bias)\n",
        "    nn.init.kaiming_normal_(self.l2.weight, mode='fan_in', nonlinearity='relu')\n",
        "    nn.init.zeros_(self.l2.bias)\n",
        "    nn.init.normal_(self.l3.weight) # Using normal distribution for LogSoftMax activated layer\n",
        "    nn.init.normal_(self.l3.bias)\n",
        "\n",
        "\n",
        "  def forward(self, x):\n",
        "    '''\n",
        "    Layers: 3\n",
        "    Activation Functions:\n",
        "    RELU for first two layers\n",
        "    Log Softmax for last layer\n",
        "    '''\n",
        "    x = self.l1(x)\n",
        "    x = self.relu(x)\n",
        "    x = self.l2(x)\n",
        "    x = self.relu(x)\n",
        "    x = self.l3(x)\n",
        "    x = self.softmax(x)\n",
        "    return x\n",
        "\n",
        "  def train_model(self, tr_loader, n_epochs, criterion, optimizer):\n",
        "    # losses --> {[*idx_first_epoch*]: loss_1, [*idx_second_epoch*]: loss_2, ...}\n",
        "    losses = {}\n",
        "    for e in range(n_epochs):\n",
        "      for features, labels in tr_loader:\n",
        "        optimizer.zero_grad() # set optimizer gradients to zero:\n",
        "        output = self(features) # Intial output\n",
        "        loss = criterion(output, labels.long()) # Loss Caluclation\n",
        "        loss.backward() # Pass loss function gradients to pervious layers:\n",
        "        optimizer.step() # Update Weights\n",
        "        losses[e] = loss.item()\n",
        "\n",
        "    return losses\n",
        "\n",
        "\n",
        "  def test_model(self, ts_loader):\n",
        "    correct = 0\n",
        "    total = 0\n",
        "    for features, labels in ts_loader:\n",
        "      outputs = self(features)\n",
        "      _, predicted = torch.max(outputs.data, 1)\n",
        "      total += labels.size(0)\n",
        "      correct += (predicted == labels).sum()\n",
        "\n",
        "    return correct / total\n",
        "\n",
        "\n",
        "\n",
        "# Define macros.\n",
        "number_of_features = 151 # 49 x coordinates of the centroid, 49 y coordinates of the centroid, 49 density values, 4 number of inclinations.\n",
        "number_of_outputs = 26 # Output letters of the alphabet.\n",
        "\n",
        "\n",
        "n_NNs = 10\n",
        "list_NNs = []\n",
        "list_criterions = []\n",
        "list_optimizers = []\n",
        "for i in range(n_NNs):\n",
        "  list_NNs.append(NeuralNetwork(number_of_features, number_of_outputs))\n",
        "  list_criterions.append(nn.NLLLoss())\n",
        "  list_optimizers.append(optim.Adam(list_NNs[i].parameters(), lr=0.001))\n",
        "\n",
        "'''\n",
        "# Intialize NN, loss function and optimizer\n",
        "NN = NeuralNetwork(number_of_features, number_of_outputs)\n",
        "criterion = nn.NLLLoss()\n",
        "optimizer = optim.Adam(NN.parameters(), lr = 0.001)\n",
        "'''"
      ],
      "metadata": {
        "id": "KNvh-lr3onFu",
        "outputId": "97cf37eb-d085-4e9f-961e-b654d752d407",
        "colab": {
          "base_uri": "https://localhost:8080/",
          "height": 53
        }
      },
      "execution_count": 15,
      "outputs": [
        {
          "output_type": "execute_result",
          "data": {
            "text/plain": [
              "'\\n# Intialize NN, loss function and optimizer\\nNN = NeuralNetwork(number_of_features, number_of_outputs)\\ncriterion = nn.NLLLoss()\\noptimizer = optim.Adam(NN.parameters(), lr = 0.001)\\n'"
            ],
            "application/vnd.google.colaboratory.intrinsic+json": {
              "type": "string"
            }
          },
          "metadata": {},
          "execution_count": 15
        }
      ]
    },
    {
      "cell_type": "markdown",
      "source": [
        "Manuel - Dataset Creation"
      ],
      "metadata": {
        "id": "sBVdkcQnrlKG"
      }
    },
    {
      "cell_type": "code",
      "source": [
        "# General purpose functions\n",
        "\n",
        "def normalize(value, min, max):\n",
        "  return (value - min) / (max - min)\n",
        "\n",
        "\n",
        "def create_dataset(n_samples, images_centroids, density_values, n_inclinations):\n",
        "  dataset_list = []\n",
        "  for i in range(len(images_centroids)):\n",
        "    list_tmp = []\n",
        "    for centroid in images_centroids[i]:\n",
        "        list_tmp.append(normalize(centroid[0], min_x_coordinates, max_x_coordinates))\n",
        "        list_tmp.append(normalize(centroid[1], min_y_coordinates, max_y_coordinates))\n",
        "\n",
        "    for density in density_values[i]:\n",
        "      list_tmp.append(normalize(density, min_density_value, max_density_value))\n",
        "\n",
        "    for n_inclination in n_inclinations[i]:\n",
        "      list_tmp.append(normalize(n_inclination, min_n_inclinations, max_n_inclinations))\n",
        "\n",
        "    dataset_list.append(list_tmp)\n",
        "\n",
        "  return torch.tensor(dataset_list)\n",
        "\n",
        "\n",
        "# Define min and max for each feature. If there is no centroid, coordinates x and y are 0.\n",
        "min_x_coordinates = 0\n",
        "max_x_coordinates = 4\n",
        "min_y_coordinates = 0\n",
        "max_y_coordinates = 4\n",
        "min_density_value = 0\n",
        "max_density_value = 16\n",
        "min_n_inclinations = 0\n",
        "max_n_inclinations = 84\n",
        "\n",
        "\n",
        "\"\"\" TO LOAD CUSTOM DATASET DIRECTLY, COMMENT THE CODE BELOW \"\"\"\n",
        "\"\"\" START OF COMMENTS \"\"\"\n",
        "'''\n",
        "# set CPU or GPU, if available\n",
        "device = torch.device('cuda:0' if torch.cuda.is_available() else 'cpu')\n",
        "\n",
        "# Prepare dataset\n",
        "features = create_dataset(len(list_centroids_rel), list_centroids_rel, list_densities, list_inclinations)\n",
        "test_features = create_dataset(len(ts_list_centroids_rel), ts_list_centroids_rel, ts_list_densities, ts_list_inclinations)\n",
        "\n",
        "trainset = CustomDataset(features, labels)\n",
        "\n",
        "\n",
        "testset = CustomDataset(test_features, test_labels)\n",
        "'''\n",
        "\"\"\" END OF COMMENTS \"\"\"\n"
      ],
      "metadata": {
        "id": "Hnwe-aDQrsPv",
        "colab": {
          "base_uri": "https://localhost:8080/",
          "height": 36
        },
        "outputId": "2c5da9a4-0f36-4882-9902-5704c0936d89"
      },
      "execution_count": 16,
      "outputs": [
        {
          "output_type": "execute_result",
          "data": {
            "text/plain": [
              "' END OF COMMENTS '"
            ],
            "application/vnd.google.colaboratory.intrinsic+json": {
              "type": "string"
            }
          },
          "metadata": {},
          "execution_count": 16
        }
      ]
    },
    {
      "cell_type": "code",
      "source": [
        "\"\"\" TO LOAD CUSTOM DATASET DIRECTLY, UNCOMMENT THIS CODE \"\"\"\n",
        "def read_dataset(url):\n",
        "  dataset = pickle.load(urlopen(url))\n",
        "  return dataset\n",
        "\n",
        "\n",
        "trainset = read_dataset(\"https://github.com/manuelboi/AI_project/raw/main/training_dataset.pt\")\n",
        "testset = read_dataset(\"https://github.com/manuelboi/AI_project/raw/main/testing_dataset.pt\")\n",
        "\n",
        "print(trainset.features.size())\n",
        "print(testset.features.size())\n",
        "\n"
      ],
      "metadata": {
        "colab": {
          "base_uri": "https://localhost:8080/"
        },
        "id": "ztkp0RIqV6Gj",
        "outputId": "0292a27b-6bc0-41d1-8645-f819426a9dc9"
      },
      "execution_count": 17,
      "outputs": [
        {
          "output_type": "stream",
          "name": "stdout",
          "text": [
            "torch.Size([124800, 151])\n",
            "torch.Size([20800, 151])\n"
          ]
        }
      ]
    },
    {
      "cell_type": "code",
      "source": [
        "trainloader = torch.utils.data.DataLoader(trainset, batch_size=64, shuffle=True) # trainloader is what holds the data loader object which takes care of shuffling the data and constructing the batches\n",
        "testloader = torch.utils.data.DataLoader(testset, batch_size=64, shuffle=False) # No need to shuffle test data."
      ],
      "metadata": {
        "id": "E3ijqGt6VxwA"
      },
      "execution_count": 18,
      "outputs": []
    },
    {
      "cell_type": "markdown",
      "source": [
        "Manuel - Model training"
      ],
      "metadata": {
        "id": "syuh8gBpr9F8"
      }
    },
    {
      "cell_type": "code",
      "source": [
        "# Train the model\n",
        "\"\"\"epochs = 5 # Number of times to train data\n",
        "for e in range(epochs):\n",
        "    for features, labels in trainloader:\n",
        "        optimizer.zero_grad() # set optimizer gradients to zero:\n",
        "        output = NN(features) # Intial output\n",
        "        loss = criterion(output, labels) # Loss Caluclation\n",
        "        loss.backward() # Pass loss function gradients to pervious layers:\n",
        "        optimizer.step() # Update Weights\n",
        "    print(loss.item()) # print loss for each epoch\"\"\"\n",
        "\n",
        "for i in range(n_NNs):\n",
        "  dct_losses = list_NNs[i].train_model(trainloader, 5, list_criterions[i], list_optimizers[i])\n",
        "  print(dct_losses)"
      ],
      "metadata": {
        "id": "ad_bUQQMr-ld",
        "outputId": "77907116-92ba-46a7-d808-54f28f02f46d",
        "colab": {
          "base_uri": "https://localhost:8080/"
        }
      },
      "execution_count": 19,
      "outputs": [
        {
          "output_type": "stream",
          "name": "stdout",
          "text": [
            "{0: 0.9418742060661316, 1: 0.7486299872398376, 2: 0.38473349809646606, 3: 0.46732065081596375, 4: 0.520673930644989}\n",
            "{0: 0.9588705897331238, 1: 0.6275649070739746, 2: 0.6617443561553955, 3: 0.4310586750507355, 4: 0.605432391166687}\n",
            "{0: 1.1185786724090576, 1: 0.6893494129180908, 2: 0.5827593803405762, 3: 0.47101446986198425, 4: 0.7432693839073181}\n",
            "{0: 0.9229428172111511, 1: 0.6934903860092163, 2: 0.47127479314804077, 3: 0.39840736985206604, 4: 0.31926193833351135}\n",
            "{0: 0.7366717457771301, 1: 0.7124434113502502, 2: 0.5576974153518677, 3: 0.3451380431652069, 4: 0.37716391682624817}\n",
            "{0: 0.8299217820167542, 1: 0.5938210487365723, 2: 0.533945620059967, 3: 0.43628373742103577, 4: 0.6308528184890747}\n",
            "{0: 0.586231529712677, 1: 0.44030648469924927, 2: 0.4174771010875702, 3: 0.3738199472427368, 4: 0.46079471707344055}\n",
            "{0: 0.8188379406929016, 1: 0.657792866230011, 2: 0.6727254986763, 3: 0.4183076322078705, 4: 0.2915937006473541}\n",
            "{0: 1.0715091228485107, 1: 0.7688859701156616, 2: 0.385374516248703, 3: 0.5093798637390137, 4: 0.34786540269851685}\n",
            "{0: 1.2581098079681396, 1: 0.6800358891487122, 2: 0.7607839107513428, 3: 0.5414804816246033, 4: 0.34448978304862976}\n"
          ]
        }
      ]
    },
    {
      "cell_type": "markdown",
      "source": [
        "Test phase"
      ],
      "metadata": {
        "id": "pLlZ9wtG-SCC"
      }
    },
    {
      "cell_type": "code",
      "source": [
        "# Test phase\n",
        "\"\"\"with torch.no_grad():\n",
        "    correct = 0\n",
        "    total = 0\n",
        "    for features, labels in testloader:\n",
        "        outputs = NN(features)\n",
        "        _, predicted = torch.max(outputs.data, 1)\n",
        "        total += labels.size(0)\n",
        "        correct += (predicted == labels).sum()\n",
        "\n",
        "    print('Accuracy of the model on the test images: {} %'\n",
        "          .format(100.0 * correct / total))\"\"\"\n",
        "\n",
        "for i in range(n_NNs):\n",
        "  accuracy = list_NNs[i].test_model(testloader)\n",
        "  print(f\"Accuracy of the model on the test images: {accuracy * 100} %\")"
      ],
      "metadata": {
        "id": "jbnZdOC5-QuL",
        "outputId": "3bc1ae9b-1b7e-43c1-e149-0ecc298b7796",
        "colab": {
          "base_uri": "https://localhost:8080/"
        }
      },
      "execution_count": 20,
      "outputs": [
        {
          "output_type": "stream",
          "name": "stdout",
          "text": [
            "Accuracy of the model on the test images: 84.07211303710938 %\n",
            "Accuracy of the model on the test images: 84.29327392578125 %\n",
            "Accuracy of the model on the test images: 84.30288696289062 %\n",
            "Accuracy of the model on the test images: 84.49519348144531 %\n",
            "Accuracy of the model on the test images: 84.15384674072266 %\n",
            "Accuracy of the model on the test images: 84.00480651855469 %\n",
            "Accuracy of the model on the test images: 84.12019348144531 %\n",
            "Accuracy of the model on the test images: 83.82211303710938 %\n",
            "Accuracy of the model on the test images: 84.04327392578125 %\n",
            "Accuracy of the model on the test images: 84.22595977783203 %\n"
          ]
        }
      ]
    },
    {
      "cell_type": "markdown",
      "source": [
        "Matteo - Tests on accuracy with different quantities of training samples"
      ],
      "metadata": {
        "id": "0o0iFI39XE2G"
      }
    },
    {
      "cell_type": "markdown",
      "source": [
        "2600 training samples"
      ],
      "metadata": {
        "id": "PKmcksdcXAWL"
      }
    },
    {
      "cell_type": "code",
      "source": [
        "def get_balanced_dataset(n, trainset):\n",
        "  \"\"\"\n",
        "   It takes n training samples for each letter and returns\n",
        "   a balanced dataset\n",
        "  \"\"\"\n",
        "\n",
        "  samples = trainset.features\n",
        "  print(\"Samples size: \", samples.size())\n",
        "  labels = trainset.labels\n",
        "  print(\"Labels size: \", labels.size())\n",
        "\n",
        "  new_features = torch.tensor([])\n",
        "  new_labels = torch.tensor([])\n",
        "  # iterating over all the letters\n",
        "  for idx in range(26):\n",
        "    samples_from_letter = samples[labels==idx, :]\n",
        "    new_features = torch.cat((new_features, samples_from_letter[:n, :]))\n",
        "    new_labels = torch.cat((new_labels, torch.tensor([idx]*n)))\n",
        "\n",
        "  print(\"New features shape: \", new_features.size())\n",
        "  print(\"New labels shape: \", new_labels.size())\n",
        "\n",
        "  return CustomDataset(new_features, new_labels)\n",
        "\n",
        "\n",
        "\n",
        "# Training and testing for 2600 training samples\n",
        "\n",
        "new_trainset = get_balanced_dataset(100, trainset)\n",
        "trainloader = torch.utils.data.DataLoader(new_trainset, batch_size=64, shuffle=True)\n",
        "\n",
        "\n",
        "NN_2 = NeuralNetwork(number_of_features, number_of_outputs)\n",
        "criterion = nn.NLLLoss()\n",
        "optimizer = optim.Adam(NN_2.parameters(), lr = 0.001)\n",
        "\n",
        "dct_losses = NN_2.train_model(trainloader, 5, criterion, optimizer)\n",
        "print(dct_losses)\n",
        "\n",
        "accuracy =  NN_2.test_model(testloader)\n",
        "print(f\"Accuracy of the model on the test images: {accuracy * 100} %\")"
      ],
      "metadata": {
        "colab": {
          "base_uri": "https://localhost:8080/"
        },
        "id": "PVD3prjzXAvV",
        "outputId": "fef2faa8-2ccb-489b-d6e2-4547a762fb0d"
      },
      "execution_count": 21,
      "outputs": [
        {
          "output_type": "stream",
          "name": "stdout",
          "text": [
            "Samples size:  torch.Size([124800, 151])\n",
            "Labels size:  torch.Size([124800])\n",
            "New features shape:  torch.Size([2600, 151])\n",
            "New labels shape:  torch.Size([2600])\n",
            "{0: 3.4345831871032715, 1: 2.8305325508117676, 2: 2.4885690212249756, 3: 2.5416224002838135, 4: 2.008683681488037}\n",
            "Accuracy of the model on the test images: 39.706729888916016 %\n"
          ]
        }
      ]
    },
    {
      "cell_type": "markdown",
      "source": [
        "26000 training samples"
      ],
      "metadata": {
        "id": "mGJOrVlPXdzl"
      }
    },
    {
      "cell_type": "code",
      "source": [
        "new_trainset = get_balanced_dataset(1000, trainset)\n",
        "trainloader = torch.utils.data.DataLoader(new_trainset, batch_size=64, shuffle=True)\n",
        "\n",
        "\n",
        "NN_3 = NeuralNetwork(number_of_features, number_of_outputs)\n",
        "criterion = nn.NLLLoss()\n",
        "optimizer = optim.Adam(NN_3.parameters(), lr = 0.001)\n",
        "\n",
        "dct_losses = NN_3.train_model(trainloader, 5, criterion, optimizer)\n",
        "print(dct_losses)\n",
        "\n",
        "accuracy =  NN_3.test_model(testloader)\n",
        "print(f\"Accuracy of the model on the test images: {accuracy * 100} %\")"
      ],
      "metadata": {
        "colab": {
          "base_uri": "https://localhost:8080/"
        },
        "id": "SpCGEOwdXgHa",
        "outputId": "646d0e72-536f-4262-b25c-63f0f41cfe4c"
      },
      "execution_count": 22,
      "outputs": [
        {
          "output_type": "stream",
          "name": "stdout",
          "text": [
            "Samples size:  torch.Size([124800, 151])\n",
            "Labels size:  torch.Size([124800])\n",
            "New features shape:  torch.Size([26000, 151])\n",
            "New labels shape:  torch.Size([26000])\n",
            "{0: 0.966698169708252, 1: 0.8049649596214294, 2: 1.004610538482666, 3: 0.7395815849304199, 4: 0.46227940917015076}\n",
            "Accuracy of the model on the test images: 76.24519348144531 %\n"
          ]
        }
      ]
    },
    {
      "cell_type": "markdown",
      "source": [
        "62400 training samples (half the total number)"
      ],
      "metadata": {
        "id": "iNNRzghGXjwO"
      }
    },
    {
      "cell_type": "code",
      "source": [
        "new_trainset = get_balanced_dataset(2400, trainset)\n",
        "trainloader = torch.utils.data.DataLoader(new_trainset, batch_size=64, shuffle=True)\n",
        "\n",
        "\n",
        "NN_4 = NeuralNetwork(number_of_features, number_of_outputs)\n",
        "criterion = nn.NLLLoss()\n",
        "optimizer = optim.Adam(NN_4.parameters(), lr = 0.001)\n",
        "\n",
        "dct_losses = NN_4.train_model(trainloader, 5, criterion, optimizer)\n",
        "print(dct_losses)\n",
        "\n",
        "accuracy =  NN_4.test_model(testloader)\n",
        "print(f\"Accuracy of the model on the test images: {accuracy * 100} %\")"
      ],
      "metadata": {
        "colab": {
          "base_uri": "https://localhost:8080/"
        },
        "id": "-vMguye5XlkE",
        "outputId": "d860f0cb-d492-4671-b876-a180a024dc6d"
      },
      "execution_count": 23,
      "outputs": [
        {
          "output_type": "stream",
          "name": "stdout",
          "text": [
            "Samples size:  torch.Size([124800, 151])\n",
            "Labels size:  torch.Size([124800])\n",
            "New features shape:  torch.Size([62400, 151])\n",
            "New labels shape:  torch.Size([62400])\n",
            "{0: 0.9774878025054932, 1: 0.9841719269752502, 2: 0.7027311325073242, 3: 0.7368746995925903, 4: 0.48784464597702026}\n",
            "Accuracy of the model on the test images: 81.60096740722656 %\n"
          ]
        }
      ]
    },
    {
      "cell_type": "markdown",
      "source": [
        "93600 training samples"
      ],
      "metadata": {
        "id": "qTuqgXK2XnzX"
      }
    },
    {
      "cell_type": "code",
      "source": [
        "new_trainset = get_balanced_dataset(3600, trainset)\n",
        "trainloader = torch.utils.data.DataLoader(new_trainset, batch_size=64, shuffle=True)\n",
        "\n",
        "\n",
        "NN_5 = NeuralNetwork(number_of_features, number_of_outputs)\n",
        "criterion = nn.NLLLoss()\n",
        "optimizer = optim.Adam(NN_5.parameters(), lr = 0.001)\n",
        "\n",
        "dct_losses = NN_5.train_model(trainloader, 5, criterion, optimizer)\n",
        "print(dct_losses)\n",
        "\n",
        "accuracy =  NN_5.test_model(testloader)\n",
        "print(f\"Accuracy of the model on the test images: {accuracy * 100} %\")"
      ],
      "metadata": {
        "colab": {
          "base_uri": "https://localhost:8080/"
        },
        "id": "w9AO08t0XoIF",
        "outputId": "3f8c6045-7d78-4161-a123-628cd3fb2cd7"
      },
      "execution_count": 24,
      "outputs": [
        {
          "output_type": "stream",
          "name": "stdout",
          "text": [
            "Samples size:  torch.Size([124800, 151])\n",
            "Labels size:  torch.Size([124800])\n",
            "New features shape:  torch.Size([93600, 151])\n",
            "New labels shape:  torch.Size([93600])\n",
            "{0: 1.1972326040267944, 1: 0.8182036876678467, 2: 0.5450698733329773, 3: 0.44205528497695923, 4: 0.42375168204307556}\n",
            "Accuracy of the model on the test images: 83.33654022216797 %\n"
          ]
        }
      ]
    },
    {
      "cell_type": "markdown",
      "source": [
        "Elia: evaluating the weight of every feature on the accuracy of the network"
      ],
      "metadata": {
        "id": "FnAr2AF4Tg7M"
      }
    },
    {
      "cell_type": "code",
      "source": [
        "\"\"\" CODE PREVIOUSLY USED TO GET A DATASET FOR DIFFERENT COMBINATIONS OF FEATURES\"\"\"\n",
        "'''\n",
        "#functions for the creation of the different datasets\n",
        "def dataset_centroids(n_samples, images_centroids):\n",
        "  dataset_list = []\n",
        "  for i in range(n_samples):\n",
        "    list_tmp = []\n",
        "    for centroid in images_centroids[i]:\n",
        "        list_tmp.append(normalize(centroid[0], min_x_coordinates, max_x_coordinates))\n",
        "        list_tmp.append(normalize(centroid[1], min_y_coordinates, max_y_coordinates))\n",
        "\n",
        "    dataset_list.append(list_tmp)\n",
        "\n",
        "  return torch.tensor(dataset_list)\n",
        "\n",
        "def dataset_density(n_samples,density_values):\n",
        "  dataset_list = []\n",
        "  for i in range(n_samples):\n",
        "    list_tmp = []\n",
        "    for density in density_values[i]:\n",
        "      list_tmp.append(normalize(density, min_density_value, max_density_value))\n",
        "\n",
        "    dataset_list.append(list_tmp)\n",
        "\n",
        "  return torch.tensor(dataset_list)\n",
        "\n",
        "def dataset_inclinations(n_samples, n_inclinations):\n",
        "  dataset_list = []\n",
        "  for i in range(n_samples):\n",
        "    list_tmp = []\n",
        "    for n_inclination in n_inclinations[i]:\n",
        "      list_tmp.append(normalize(n_inclination, min_n_inclinations, max_n_inclinations))\n",
        "\n",
        "    dataset_list.append(list_tmp)\n",
        "\n",
        "  return torch.tensor(dataset_list)\n",
        "\n",
        "def dataset_centroids_density(n_samples, images_centroids, density_values):\n",
        "  dataset_list = []\n",
        "  for i in range(n_samples):\n",
        "    list_tmp = []\n",
        "    for centroid in images_centroids[i]:\n",
        "        list_tmp.append(normalize(centroid[0], min_x_coordinates, max_x_coordinates))\n",
        "        list_tmp.append(normalize(centroid[1], min_y_coordinates, max_y_coordinates))\n",
        "\n",
        "    for density in density_values[i]:\n",
        "      list_tmp.append(normalize(density, min_density_value, max_density_value))\n",
        "\n",
        "    dataset_list.append(list_tmp)\n",
        "\n",
        "  return torch.tensor(dataset_list)\n",
        "\n",
        "def dataset_centroids_inclinations(n_samples, images_centroids,  n_inclinations):\n",
        "  dataset_list = []\n",
        "  for i in range(n_samples):\n",
        "    list_tmp = []\n",
        "    for centroid in images_centroids[i]:\n",
        "        list_tmp.append(normalize(centroid[0], min_x_coordinates, max_x_coordinates))\n",
        "        list_tmp.append(normalize(centroid[1], min_y_coordinates, max_y_coordinates))\n",
        "\n",
        "    for n_inclination in n_inclinations[i]:\n",
        "      list_tmp.append(normalize(n_inclination, min_n_inclinations, max_n_inclinations))\n",
        "\n",
        "    dataset_list.append(list_tmp)\n",
        "\n",
        "  return torch.tensor(dataset_list)\n",
        "\n",
        "def dataset_density_inclinations(n_samples,  density_values, n_inclinations):\n",
        "  dataset_list = []\n",
        "  for i in range(n_samples):\n",
        "    list_tmp = []\n",
        "    for density in density_values[i]:\n",
        "      list_tmp.append(normalize(density, min_density_value, max_density_value))\n",
        "\n",
        "    for n_inclination in n_inclinations[i]:\n",
        "      list_tmp.append(normalize(n_inclination, min_n_inclinations, max_n_inclinations))\n",
        "\n",
        "    dataset_list.append(list_tmp)\n",
        "\n",
        "  return torch.tensor(dataset_list)\n",
        "  '''\n",
        "\n",
        "'''\n",
        "n_train=tr_images.size()[0]\n",
        "n_test=test_images.size()[0]\n",
        "# Prepare datasets\n",
        "features_train=[dataset_centroids(n_train, list_centroids_rel),\n",
        "                dataset_density(n_train,list_densities),\n",
        "                dataset_inclinations(n_train, list_inclinations),\n",
        "                dataset_centroids_density(n_train, list_centroids_rel, list_densities),\n",
        "                dataset_centroids_inclinations(n_train,list_centroids_rel, list_inclinations),\n",
        "                dataset_density_inclinations(n_train, list_densities, list_inclinations)]\n",
        "features_test=[dataset_centroids(n_test, ts_list_centroids_rel),\n",
        "                dataset_density(n_test,ts_list_densities),\n",
        "                dataset_inclinations(n_test, ts_list_inclinations),\n",
        "                dataset_centroids_density(n_test, ts_list_centroids_rel, ts_list_densities),\n",
        "                dataset_centroids_inclinations(n_test, ts_list_centroids_rel, ts_list_inclinations),\n",
        "                dataset_density_inclinations(n_test, ts_list_densities, ts_list_inclinations)]\n",
        "'''"
      ],
      "metadata": {
        "id": "Q7Veu1jXTftW",
        "outputId": "00220ebb-e94a-465a-8f01-11f156e9bc9c",
        "colab": {
          "base_uri": "https://localhost:8080/",
          "height": 123
        }
      },
      "execution_count": 25,
      "outputs": [
        {
          "output_type": "execute_result",
          "data": {
            "text/plain": [
              "'\\nn_train=tr_images.size()[0]\\nn_test=test_images.size()[0]\\n# Prepare datasets\\nfeatures_train=[dataset_centroids(n_train, list_centroids_rel),\\n                dataset_density(n_train,list_densities),\\n                dataset_inclinations(n_train, list_inclinations),\\n                dataset_centroids_density(n_train, list_centroids_rel, list_densities),\\n                dataset_centroids_inclinations(n_train,list_centroids_rel, list_inclinations),\\n                dataset_density_inclinations(n_train, list_densities, list_inclinations)]\\nfeatures_test=[dataset_centroids(n_test, ts_list_centroids_rel),\\n                dataset_density(n_test,ts_list_densities),\\n                dataset_inclinations(n_test, ts_list_inclinations),\\n                dataset_centroids_density(n_test, ts_list_centroids_rel, ts_list_densities),\\n                dataset_centroids_inclinations(n_test, ts_list_centroids_rel, ts_list_inclinations),\\n                dataset_density_inclinations(n_test, ts_list_densities, ts_list_inclinations)]\\n'"
            ],
            "application/vnd.google.colaboratory.intrinsic+json": {
              "type": "string"
            }
          },
          "metadata": {},
          "execution_count": 25
        }
      ]
    },
    {
      "cell_type": "code",
      "source": [
        "#In order to get the features desired, it is sufficient to slice appropriately the trainset and the testset\n",
        "\n",
        "\n",
        "features_train_centroids = trainset.features[:, :98]\n",
        "features_train_densities = trainset.features[:, 98:147]\n",
        "features_train_inclinations = trainset.features[:, 147:]\n",
        "features_train_centroids_densities = trainset.features[:, :147]\n",
        "features_train_centroids_inclinations = torch.cat((features_train_centroids, features_train_inclinations), dim=1)\n",
        "features_train_densities_inclinations = trainset.features[:, 98:]\n",
        "\n",
        "features_train=[features_train_centroids, features_train_densities, features_train_inclinations, features_train_centroids_densities,\n",
        "                features_train_centroids_inclinations, features_train_densities_inclinations]\n",
        "\n",
        "features_test_centroids = testset.features[:, :98]\n",
        "features_test_densities = testset.features[:, 98:147]\n",
        "features_test_inclinations = testset.features[:, 147:]\n",
        "features_test_centroids_densities = testset.features[:, :147]\n",
        "features_test_centroids_inclinations = torch.cat((features_test_centroids, features_test_inclinations), dim=1)\n",
        "features_test_densities_inclinations = testset.features[:, 98:]\n",
        "\n",
        "features_test=[features_test_centroids, features_test_densities, features_test_inclinations, features_test_centroids_densities,\n",
        "                features_test_centroids_inclinations, features_test_densities_inclinations]\n",
        "\n",
        "\n",
        "\n",
        "# Creation of a list of neural networks for ceach combination of features\n",
        "v_num_features=[98,49,4,147,102,53]\n",
        "number_of_outputs = 26\n",
        "list_NNs = []\n",
        "list_criterions = []\n",
        "list_optimizers = []\n",
        "for i in range(len(v_num_features)):\n",
        "  list_NNs.append(NeuralNetwork(v_num_features[i], number_of_outputs))\n",
        "  list_criterions.append(nn.NLLLoss())\n",
        "  list_optimizers.append(optim.Adam(list_NNs[i].parameters(), lr=0.001))\n",
        "\n",
        "for i in range(len(v_num_features)):\n",
        "  features = features_train[i]\n",
        "  trainset = CustomDataset(features, trainset.labels)\n",
        "  trainloader = torch.utils.data.DataLoader(trainset, batch_size=64, shuffle=True)\n",
        "  test_features = features_test[i]\n",
        "  testset = CustomDataset(test_features, testset.labels)\n",
        "  testloader = torch.utils.data.DataLoader(testset, batch_size=64, shuffle=False)\n",
        "\n",
        "  #Training phase\n",
        "  dct_losses = list_NNs[i].train_model(trainloader, 5, list_criterions[i], list_optimizers[i])\n",
        "  print(\"Losses for NN {} {}\".format(i, dct_losses))\n",
        "\n",
        "  # Test phase\n",
        "  accuracy = list_NNs[i].test_model(testloader)\n",
        "  print(f\"Accuracy of the model {i} on the test images: {accuracy * 100} %\")"
      ],
      "metadata": {
        "id": "KuL561zeTWl6",
        "outputId": "4f31036d-168a-467e-d43d-22b57ed15e58",
        "colab": {
          "base_uri": "https://localhost:8080/",
          "height": 390
        }
      },
      "execution_count": 27,
      "outputs": [
        {
          "output_type": "error",
          "ename": "RuntimeError",
          "evalue": "ignored",
          "traceback": [
            "\u001b[0;31m---------------------------------------------------------------------------\u001b[0m",
            "\u001b[0;31mRuntimeError\u001b[0m                              Traceback (most recent call last)",
            "\u001b[0;32m<ipython-input-27-f32d73e09f01>\u001b[0m in \u001b[0;36m<cell line: 37>\u001b[0;34m()\u001b[0m\n\u001b[1;32m     44\u001b[0m \u001b[0;34m\u001b[0m\u001b[0m\n\u001b[1;32m     45\u001b[0m   \u001b[0;31m#Training phase\u001b[0m\u001b[0;34m\u001b[0m\u001b[0;34m\u001b[0m\u001b[0m\n\u001b[0;32m---> 46\u001b[0;31m   \u001b[0mdct_losses\u001b[0m \u001b[0;34m=\u001b[0m \u001b[0mlist_NNs\u001b[0m\u001b[0;34m[\u001b[0m\u001b[0mi\u001b[0m\u001b[0;34m]\u001b[0m\u001b[0;34m.\u001b[0m\u001b[0mtrain_model\u001b[0m\u001b[0;34m(\u001b[0m\u001b[0mtrainloader\u001b[0m\u001b[0;34m,\u001b[0m \u001b[0;36m5\u001b[0m\u001b[0;34m,\u001b[0m \u001b[0mlist_criterions\u001b[0m\u001b[0;34m[\u001b[0m\u001b[0mi\u001b[0m\u001b[0;34m]\u001b[0m\u001b[0;34m,\u001b[0m \u001b[0mlist_optimizers\u001b[0m\u001b[0;34m[\u001b[0m\u001b[0mi\u001b[0m\u001b[0;34m]\u001b[0m\u001b[0;34m)\u001b[0m\u001b[0;34m\u001b[0m\u001b[0;34m\u001b[0m\u001b[0m\n\u001b[0m\u001b[1;32m     47\u001b[0m   \u001b[0mprint\u001b[0m\u001b[0;34m(\u001b[0m\u001b[0;34m\"Losses for NN {} {}\"\u001b[0m\u001b[0;34m.\u001b[0m\u001b[0mformat\u001b[0m\u001b[0;34m(\u001b[0m\u001b[0mi\u001b[0m\u001b[0;34m,\u001b[0m \u001b[0mdct_losses\u001b[0m\u001b[0;34m)\u001b[0m\u001b[0;34m)\u001b[0m\u001b[0;34m\u001b[0m\u001b[0;34m\u001b[0m\u001b[0m\n\u001b[1;32m     48\u001b[0m \u001b[0;34m\u001b[0m\u001b[0m\n",
            "\u001b[0;32m<ipython-input-15-7fec106a31d3>\u001b[0m in \u001b[0;36mtrain_model\u001b[0;34m(self, tr_loader, n_epochs, criterion, optimizer)\u001b[0m\n\u001b[1;32m     47\u001b[0m       \u001b[0;32mfor\u001b[0m \u001b[0mfeatures\u001b[0m\u001b[0;34m,\u001b[0m \u001b[0mlabels\u001b[0m \u001b[0;32min\u001b[0m \u001b[0mtr_loader\u001b[0m\u001b[0;34m:\u001b[0m\u001b[0;34m\u001b[0m\u001b[0;34m\u001b[0m\u001b[0m\n\u001b[1;32m     48\u001b[0m         \u001b[0moptimizer\u001b[0m\u001b[0;34m.\u001b[0m\u001b[0mzero_grad\u001b[0m\u001b[0;34m(\u001b[0m\u001b[0;34m)\u001b[0m \u001b[0;31m# set optimizer gradients to zero:\u001b[0m\u001b[0;34m\u001b[0m\u001b[0;34m\u001b[0m\u001b[0m\n\u001b[0;32m---> 49\u001b[0;31m         \u001b[0moutput\u001b[0m \u001b[0;34m=\u001b[0m \u001b[0mself\u001b[0m\u001b[0;34m(\u001b[0m\u001b[0mfeatures\u001b[0m\u001b[0;34m)\u001b[0m \u001b[0;31m# Intial output\u001b[0m\u001b[0;34m\u001b[0m\u001b[0;34m\u001b[0m\u001b[0m\n\u001b[0m\u001b[1;32m     50\u001b[0m         \u001b[0mloss\u001b[0m \u001b[0;34m=\u001b[0m \u001b[0mcriterion\u001b[0m\u001b[0;34m(\u001b[0m\u001b[0moutput\u001b[0m\u001b[0;34m,\u001b[0m \u001b[0mlabels\u001b[0m\u001b[0;34m.\u001b[0m\u001b[0mlong\u001b[0m\u001b[0;34m(\u001b[0m\u001b[0;34m)\u001b[0m\u001b[0;34m)\u001b[0m \u001b[0;31m# Loss Caluclation\u001b[0m\u001b[0;34m\u001b[0m\u001b[0;34m\u001b[0m\u001b[0m\n\u001b[1;32m     51\u001b[0m         \u001b[0mloss\u001b[0m\u001b[0;34m.\u001b[0m\u001b[0mbackward\u001b[0m\u001b[0;34m(\u001b[0m\u001b[0;34m)\u001b[0m \u001b[0;31m# Pass loss function gradients to pervious layers:\u001b[0m\u001b[0;34m\u001b[0m\u001b[0;34m\u001b[0m\u001b[0m\n",
            "\u001b[0;32m/usr/local/lib/python3.10/dist-packages/torch/nn/modules/module.py\u001b[0m in \u001b[0;36m_call_impl\u001b[0;34m(self, *args, **kwargs)\u001b[0m\n\u001b[1;32m   1499\u001b[0m                 \u001b[0;32mor\u001b[0m \u001b[0m_global_backward_pre_hooks\u001b[0m \u001b[0;32mor\u001b[0m \u001b[0m_global_backward_hooks\u001b[0m\u001b[0;34m\u001b[0m\u001b[0;34m\u001b[0m\u001b[0m\n\u001b[1;32m   1500\u001b[0m                 or _global_forward_hooks or _global_forward_pre_hooks):\n\u001b[0;32m-> 1501\u001b[0;31m             \u001b[0;32mreturn\u001b[0m \u001b[0mforward_call\u001b[0m\u001b[0;34m(\u001b[0m\u001b[0;34m*\u001b[0m\u001b[0margs\u001b[0m\u001b[0;34m,\u001b[0m \u001b[0;34m**\u001b[0m\u001b[0mkwargs\u001b[0m\u001b[0;34m)\u001b[0m\u001b[0;34m\u001b[0m\u001b[0;34m\u001b[0m\u001b[0m\n\u001b[0m\u001b[1;32m   1502\u001b[0m         \u001b[0;31m# Do not call functions when jit is used\u001b[0m\u001b[0;34m\u001b[0m\u001b[0;34m\u001b[0m\u001b[0m\n\u001b[1;32m   1503\u001b[0m         \u001b[0mfull_backward_hooks\u001b[0m\u001b[0;34m,\u001b[0m \u001b[0mnon_full_backward_hooks\u001b[0m \u001b[0;34m=\u001b[0m \u001b[0;34m[\u001b[0m\u001b[0;34m]\u001b[0m\u001b[0;34m,\u001b[0m \u001b[0;34m[\u001b[0m\u001b[0;34m]\u001b[0m\u001b[0;34m\u001b[0m\u001b[0;34m\u001b[0m\u001b[0m\n",
            "\u001b[0;32m<ipython-input-15-7fec106a31d3>\u001b[0m in \u001b[0;36mforward\u001b[0;34m(self, x)\u001b[0m\n\u001b[1;32m     33\u001b[0m     \u001b[0mLog\u001b[0m \u001b[0mSoftmax\u001b[0m \u001b[0;32mfor\u001b[0m \u001b[0mlast\u001b[0m \u001b[0mlayer\u001b[0m\u001b[0;34m\u001b[0m\u001b[0;34m\u001b[0m\u001b[0m\n\u001b[1;32m     34\u001b[0m     '''\n\u001b[0;32m---> 35\u001b[0;31m     \u001b[0mx\u001b[0m \u001b[0;34m=\u001b[0m \u001b[0mself\u001b[0m\u001b[0;34m.\u001b[0m\u001b[0ml1\u001b[0m\u001b[0;34m(\u001b[0m\u001b[0mx\u001b[0m\u001b[0;34m)\u001b[0m\u001b[0;34m\u001b[0m\u001b[0;34m\u001b[0m\u001b[0m\n\u001b[0m\u001b[1;32m     36\u001b[0m     \u001b[0mx\u001b[0m \u001b[0;34m=\u001b[0m \u001b[0mself\u001b[0m\u001b[0;34m.\u001b[0m\u001b[0mrelu\u001b[0m\u001b[0;34m(\u001b[0m\u001b[0mx\u001b[0m\u001b[0;34m)\u001b[0m\u001b[0;34m\u001b[0m\u001b[0;34m\u001b[0m\u001b[0m\n\u001b[1;32m     37\u001b[0m     \u001b[0mx\u001b[0m \u001b[0;34m=\u001b[0m \u001b[0mself\u001b[0m\u001b[0;34m.\u001b[0m\u001b[0ml2\u001b[0m\u001b[0;34m(\u001b[0m\u001b[0mx\u001b[0m\u001b[0;34m)\u001b[0m\u001b[0;34m\u001b[0m\u001b[0;34m\u001b[0m\u001b[0m\n",
            "\u001b[0;32m/usr/local/lib/python3.10/dist-packages/torch/nn/modules/module.py\u001b[0m in \u001b[0;36m_call_impl\u001b[0;34m(self, *args, **kwargs)\u001b[0m\n\u001b[1;32m   1499\u001b[0m                 \u001b[0;32mor\u001b[0m \u001b[0m_global_backward_pre_hooks\u001b[0m \u001b[0;32mor\u001b[0m \u001b[0m_global_backward_hooks\u001b[0m\u001b[0;34m\u001b[0m\u001b[0;34m\u001b[0m\u001b[0m\n\u001b[1;32m   1500\u001b[0m                 or _global_forward_hooks or _global_forward_pre_hooks):\n\u001b[0;32m-> 1501\u001b[0;31m             \u001b[0;32mreturn\u001b[0m \u001b[0mforward_call\u001b[0m\u001b[0;34m(\u001b[0m\u001b[0;34m*\u001b[0m\u001b[0margs\u001b[0m\u001b[0;34m,\u001b[0m \u001b[0;34m**\u001b[0m\u001b[0mkwargs\u001b[0m\u001b[0;34m)\u001b[0m\u001b[0;34m\u001b[0m\u001b[0;34m\u001b[0m\u001b[0m\n\u001b[0m\u001b[1;32m   1502\u001b[0m         \u001b[0;31m# Do not call functions when jit is used\u001b[0m\u001b[0;34m\u001b[0m\u001b[0;34m\u001b[0m\u001b[0m\n\u001b[1;32m   1503\u001b[0m         \u001b[0mfull_backward_hooks\u001b[0m\u001b[0;34m,\u001b[0m \u001b[0mnon_full_backward_hooks\u001b[0m \u001b[0;34m=\u001b[0m \u001b[0;34m[\u001b[0m\u001b[0;34m]\u001b[0m\u001b[0;34m,\u001b[0m \u001b[0;34m[\u001b[0m\u001b[0;34m]\u001b[0m\u001b[0;34m\u001b[0m\u001b[0;34m\u001b[0m\u001b[0m\n",
            "\u001b[0;32m/usr/local/lib/python3.10/dist-packages/torch/nn/modules/linear.py\u001b[0m in \u001b[0;36mforward\u001b[0;34m(self, input)\u001b[0m\n\u001b[1;32m    112\u001b[0m \u001b[0;34m\u001b[0m\u001b[0m\n\u001b[1;32m    113\u001b[0m     \u001b[0;32mdef\u001b[0m \u001b[0mforward\u001b[0m\u001b[0;34m(\u001b[0m\u001b[0mself\u001b[0m\u001b[0;34m,\u001b[0m \u001b[0minput\u001b[0m\u001b[0;34m:\u001b[0m \u001b[0mTensor\u001b[0m\u001b[0;34m)\u001b[0m \u001b[0;34m->\u001b[0m \u001b[0mTensor\u001b[0m\u001b[0;34m:\u001b[0m\u001b[0;34m\u001b[0m\u001b[0;34m\u001b[0m\u001b[0m\n\u001b[0;32m--> 114\u001b[0;31m         \u001b[0;32mreturn\u001b[0m \u001b[0mF\u001b[0m\u001b[0;34m.\u001b[0m\u001b[0mlinear\u001b[0m\u001b[0;34m(\u001b[0m\u001b[0minput\u001b[0m\u001b[0;34m,\u001b[0m \u001b[0mself\u001b[0m\u001b[0;34m.\u001b[0m\u001b[0mweight\u001b[0m\u001b[0;34m,\u001b[0m \u001b[0mself\u001b[0m\u001b[0;34m.\u001b[0m\u001b[0mbias\u001b[0m\u001b[0;34m)\u001b[0m\u001b[0;34m\u001b[0m\u001b[0;34m\u001b[0m\u001b[0m\n\u001b[0m\u001b[1;32m    115\u001b[0m \u001b[0;34m\u001b[0m\u001b[0m\n\u001b[1;32m    116\u001b[0m     \u001b[0;32mdef\u001b[0m \u001b[0mextra_repr\u001b[0m\u001b[0;34m(\u001b[0m\u001b[0mself\u001b[0m\u001b[0;34m)\u001b[0m \u001b[0;34m->\u001b[0m \u001b[0mstr\u001b[0m\u001b[0;34m:\u001b[0m\u001b[0;34m\u001b[0m\u001b[0;34m\u001b[0m\u001b[0m\n",
            "\u001b[0;31mRuntimeError\u001b[0m: mat1 and mat2 shapes cannot be multiplied (64x53 and 98x62)"
          ]
        }
      ]
    }
  ]
}