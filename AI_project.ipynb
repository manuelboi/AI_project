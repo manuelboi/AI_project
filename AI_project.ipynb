{
  "nbformat": 4,
  "nbformat_minor": 0,
  "metadata": {
    "colab": {
      "provenance": [],
      "toc_visible": true,
      "include_colab_link": true
    },
    "kernelspec": {
      "name": "python3",
      "display_name": "Python 3"
    },
    "language_info": {
      "name": "python"
    }
  },
  "cells": [
    {
      "cell_type": "markdown",
      "metadata": {
        "id": "view-in-github",
        "colab_type": "text"
      },
      "source": [
        "<a href=\"https://colab.research.google.com/github/manuelboi/AI_project/blob/main/AI_project.ipynb\" target=\"_parent\"><img src=\"https://colab.research.google.com/assets/colab-badge.svg\" alt=\"Open In Colab\"/></a>"
      ]
    },
    {
      "cell_type": "code",
      "execution_count": null,
      "metadata": {
        "id": "NLSwyNFwHXUQ"
      },
      "outputs": [],
      "source": [
        "import torch\n",
        "import torchvision\n",
        "import torchvision.transforms as transforms\n",
        "import matplotlib.pyplot as plt\n",
        "import numpy as np\n",
        "\n"
      ]
    },
    {
      "cell_type": "code",
      "source": [
        "def show_single_letter(xi):\n",
        "  #\n",
        "  #plt.figure(figsize=(1,1))\n",
        "  # take pytorch tensor and convert it into numpy array, then reshape into 28x28\n",
        "  xi = xi.numpy().reshape(28, 28)\n",
        "  # show the transpose of the grey-scale images\n",
        "  plt.imshow(np.transpose(xi), cmap='Greys')\n",
        "  plt.axis(\"off\")\n",
        "\n",
        "def show_letters(x, n=10):\n",
        "  for i in range(n**2):\n",
        "    plt.subplot(n, n, i+1)\n",
        "    show_single_letter(x[i])\n",
        "\n",
        "\n",
        "input_size = 28 * 28\n",
        "num_classes = 26\n",
        "\n",
        "# 124800 training set images\n",
        "train_set = torchvision.datasets.EMNIST(root=\"data\", split=\"letters\",\n",
        "                                        train=True, download=True,\n",
        "                                        transform=transforms.ToTensor())\n",
        "\n",
        "# 20800 test set images\n",
        "test_set = torchvision.datasets.EMNIST(root=\"data\", split=\"letters\",\n",
        "                                       train=False,\n",
        "                                       transform=transforms.ToTensor())\n",
        "# tr_images and labels are tensors\n",
        "tr_images = train_set.data\n",
        "labels = train_set.targets\n",
        "\n",
        "\n",
        "\n",
        "# plot a single image\n",
        "#show_single_letter(tr_images[0])\n",
        "\n",
        "# show_letters(tr_images, 12)\n",
        "\n",
        "\n"
      ],
      "metadata": {
        "id": "PZG8udJCP8HY",
        "colab": {
          "base_uri": "https://localhost:8080/"
        },
        "outputId": "30fef9ae-4a3f-41ad-8fd8-85c2d31288ef"
      },
      "execution_count": null,
      "outputs": [
        {
          "output_type": "stream",
          "name": "stdout",
          "text": [
            "Downloading https://www.itl.nist.gov/iaui/vip/cs_links/EMNIST/gzip.zip to data/EMNIST/raw/gzip.zip\n"
          ]
        },
        {
          "output_type": "stream",
          "name": "stderr",
          "text": [
            "100%|██████████| 561753746/561753746 [00:07<00:00, 79435563.90it/s]\n"
          ]
        },
        {
          "output_type": "stream",
          "name": "stdout",
          "text": [
            "Extracting data/EMNIST/raw/gzip.zip to data/EMNIST/raw\n"
          ]
        }
      ]
    },
    {
      "cell_type": "markdown",
      "source": [
        "# Nuova sezione"
      ],
      "metadata": {
        "id": "e90KtFeQ_H2K"
      }
    },
    {
      "cell_type": "markdown",
      "source": [
        "Understanding tensors"
      ],
      "metadata": {
        "id": "nKpcGDYv9j08"
      }
    },
    {
      "cell_type": "code",
      "source": [
        "print(tr_images)\n",
        "print(tr_images.size())\n",
        "print(tr_images[0])\n",
        "print(tr_images[0].size())"
      ],
      "metadata": {
        "colab": {
          "base_uri": "https://localhost:8080/"
        },
        "id": "tNqiXFct9jI_",
        "outputId": "305b8308-f4f6-4d48-925c-9bce9bf06827"
      },
      "execution_count": null,
      "outputs": [
        {
          "output_type": "stream",
          "name": "stdout",
          "text": [
            "tensor([[[0, 0, 0,  ..., 0, 0, 0],\n",
            "         [0, 0, 0,  ..., 0, 0, 0],\n",
            "         [0, 0, 0,  ..., 0, 0, 0],\n",
            "         ...,\n",
            "         [0, 0, 0,  ..., 0, 0, 0],\n",
            "         [0, 0, 0,  ..., 0, 0, 0],\n",
            "         [0, 0, 0,  ..., 0, 0, 0]],\n",
            "\n",
            "        [[0, 0, 0,  ..., 0, 0, 0],\n",
            "         [0, 0, 0,  ..., 0, 0, 0],\n",
            "         [0, 0, 0,  ..., 0, 0, 0],\n",
            "         ...,\n",
            "         [0, 0, 0,  ..., 0, 0, 0],\n",
            "         [0, 0, 0,  ..., 0, 0, 0],\n",
            "         [0, 0, 0,  ..., 0, 0, 0]],\n",
            "\n",
            "        [[0, 0, 0,  ..., 0, 0, 0],\n",
            "         [0, 0, 0,  ..., 0, 0, 0],\n",
            "         [0, 0, 0,  ..., 0, 0, 0],\n",
            "         ...,\n",
            "         [0, 0, 0,  ..., 0, 0, 0],\n",
            "         [0, 0, 0,  ..., 0, 0, 0],\n",
            "         [0, 0, 0,  ..., 0, 0, 0]],\n",
            "\n",
            "        ...,\n",
            "\n",
            "        [[0, 0, 0,  ..., 0, 0, 0],\n",
            "         [0, 0, 0,  ..., 0, 0, 0],\n",
            "         [0, 0, 0,  ..., 0, 0, 0],\n",
            "         ...,\n",
            "         [0, 0, 0,  ..., 0, 0, 0],\n",
            "         [0, 0, 0,  ..., 0, 0, 0],\n",
            "         [0, 0, 0,  ..., 0, 0, 0]],\n",
            "\n",
            "        [[0, 0, 0,  ..., 0, 0, 0],\n",
            "         [0, 0, 0,  ..., 0, 0, 0],\n",
            "         [0, 0, 0,  ..., 0, 0, 0],\n",
            "         ...,\n",
            "         [0, 0, 0,  ..., 0, 0, 0],\n",
            "         [0, 0, 0,  ..., 0, 0, 0],\n",
            "         [0, 0, 0,  ..., 0, 0, 0]],\n",
            "\n",
            "        [[0, 0, 0,  ..., 0, 0, 0],\n",
            "         [0, 0, 0,  ..., 0, 0, 0],\n",
            "         [0, 0, 0,  ..., 0, 0, 0],\n",
            "         ...,\n",
            "         [0, 0, 0,  ..., 0, 0, 0],\n",
            "         [0, 0, 0,  ..., 0, 0, 0],\n",
            "         [0, 0, 0,  ..., 0, 0, 0]]], dtype=torch.uint8)\n",
            "torch.Size([124800, 28, 28])\n",
            "tensor([[  0,   0,   0,   0,   0,   0,   0,   0,   0,   0,   0,   0,   0,   0,\n",
            "           0,   0,   0,   0,   0,   0,   0,   0,   0,   0,   0,   0,   0,   0],\n",
            "        [  0,   0,   0,   0,   0,   0,   0,   0,   0,   0,   0,   0,   0,   0,\n",
            "           0,   0,   0,   0,   0,   0,   0,   0,   0,   0,   0,   0,   0,   0],\n",
            "        [  0,   0,   0,   0,   0,   0,   0,   0,   0,   0,   1,   0,   0,   0,\n",
            "           0,   0,   0,   0,   0,   0,   0,   0,   0,   0,   0,   0,   0,   0],\n",
            "        [  0,   0,  20, 114, 125,  82,  37,  37,  39, 115, 157,  94,  21,  10,\n",
            "          32,  37,  37,  37,  37,  37,  37,  37,  82, 125, 114,  20,   0,   0],\n",
            "        [  0,   3, 109, 245, 249, 233, 217, 217, 217, 245, 251, 234, 172, 142,\n",
            "         203, 217, 217, 217, 217, 217, 217, 217, 233, 249, 245, 109,   3,   0],\n",
            "        [  0,   4, 114, 253, 254, 254, 254, 254, 254, 254, 254, 254, 252, 251,\n",
            "         254, 254, 254, 254, 254, 254, 254, 254, 254, 254, 254, 127,   4,   0],\n",
            "        [  0,   0,  45, 214, 233, 251, 254, 254, 254, 254, 255, 255, 255, 255,\n",
            "         255, 255, 255, 255, 255, 255, 255, 255, 254, 254, 251, 113,   4,   0],\n",
            "        [  0,   0,   0,   5,  22,  82, 128, 160, 184, 217, 217, 218, 249, 254,\n",
            "         255, 255, 255, 255, 255, 254, 254, 247, 216, 170,  83,   7,   0,   0],\n",
            "        [  0,   0,   0,   0,   0,   2,   5,  16,  25,  37,  40,  50, 227, 254,\n",
            "         255, 255, 254, 254, 252, 245, 220, 159,  38,  21,   3,   0,   0,   0],\n",
            "        [  0,   0,   0,   0,   0,   0,   0,   0,   0,   9,  77, 140, 247, 254,\n",
            "         254, 254, 254, 244, 177, 114,  50,  20,   0,   0,   0,   0,   0,   0],\n",
            "        [  0,   0,   0,   0,   0,   0,   0,   3,  34, 175, 246, 254, 254, 254,\n",
            "         253, 221, 115,  46,   7,   0,   0,   0,   0,   0,   0,   0,   0,   0],\n",
            "        [  0,   0,   0,   0,   0,   3,  34,  84, 175, 251, 254, 254, 253, 234,\n",
            "         202,  91,   4,   0,   0,   0,   0,   0,   0,   0,   0,   0,   0,   0],\n",
            "        [  0,   0,   0,   0,  10,  79, 204, 233, 251, 254, 255, 255, 239, 116,\n",
            "          35,   7,   0,   0,   0,   0,   0,   0,   0,   0,   0,   0,   0,   0],\n",
            "        [  0,   0,   0,  20, 123, 220, 254, 254, 254, 255, 255, 255, 248, 165,\n",
            "          37,  21,  32,   9,   4,   4,   4,   4,   0,   0,   0,   0,   0,   0],\n",
            "        [  0,   0,   0, 100, 238, 254, 255, 255, 255, 255, 255, 255, 254, 253,\n",
            "         235, 234, 245, 222, 217, 217, 217, 203, 115,  32,   0,   0,   0,   0],\n",
            "        [  0,   0,   0,  33, 163, 244, 254, 254, 254, 255, 255, 255, 255, 254,\n",
            "         254, 254, 254, 254, 254, 254, 254, 254, 240, 111,   3,   0,   0,   0],\n",
            "        [  0,   0,   0,   1,  33, 126, 216, 233, 250, 254, 255, 255, 255, 255,\n",
            "         255, 255, 255, 255, 255, 255, 254, 254, 233,  82,   2,   0,   0,   0],\n",
            "        [  0,   0,   0,   0,   0,   0,   5,  22,  82, 251, 255, 255, 255, 255,\n",
            "         255, 255, 254, 254, 250, 233, 217, 203, 110,  18,   0,   0,   0,   0],\n",
            "        [  0,   0,   0,   0,   0,   0,   0,  10, 128, 254, 255, 255, 254, 254,\n",
            "         254, 254, 246, 208, 140,  82,  39,  32,   4,   0,   0,   0,   0,   0],\n",
            "        [  0,   0,   0,   0,   0,   0,  22,  95, 221, 254, 255, 254, 253, 234,\n",
            "         217, 215, 127,  46,   9,   2,   0,   0,   0,   0,   0,   0,   0,   0],\n",
            "        [  0,   0,   0,   0,   0,   3, 154, 232, 253, 254, 254, 252, 207,  95,\n",
            "          39,  37,   8,   0,   0,   0,   0,   0,   0,   0,   0,   0,   0,   0],\n",
            "        [  0,   0,   0,   0,   2,  77, 247, 254, 255, 254, 242, 131,   9,   0,\n",
            "           0,   0,   0,   0,   0,   0,   0,   0,   0,   0,   0,   0,   0,   0],\n",
            "        [  0,   0,   0,   0,   4, 125, 254, 254, 252, 232, 131,  32,   0,   0,\n",
            "           0,   0,   0,   0,   0,   0,   0,   0,   0,   0,   0,   0,   0,   0],\n",
            "        [  0,   0,   0,   0,   4, 113, 253, 246, 177, 109,  22,   0,   0,   0,\n",
            "           0,   0,   0,   0,   0,   0,   0,   0,   0,   0,   0,   0,   0,   0],\n",
            "        [  0,   0,   0,   0,   0,   8, 111,  77,   8,   0,   0,   0,   0,   0,\n",
            "           0,   0,   0,   0,   0,   0,   0,   0,   0,   0,   0,   0,   0,   0],\n",
            "        [  0,   0,   0,   0,   0,   0,   3,   2,   0,   0,   0,   0,   0,   0,\n",
            "           0,   0,   0,   0,   0,   0,   0,   0,   0,   0,   0,   0,   0,   0],\n",
            "        [  0,   0,   0,   0,   0,   0,   0,   0,   0,   0,   0,   0,   0,   0,\n",
            "           0,   0,   0,   0,   0,   0,   0,   0,   0,   0,   0,   0,   0,   0],\n",
            "        [  0,   0,   0,   0,   0,   0,   0,   0,   0,   0,   0,   0,   0,   0,\n",
            "           0,   0,   0,   0,   0,   0,   0,   0,   0,   0,   0,   0,   0,   0]],\n",
            "       dtype=torch.uint8)\n",
            "torch.Size([28, 28])\n"
          ]
        }
      ]
    },
    {
      "cell_type": "markdown",
      "source": [
        "Matteo - Implementazione della maschera per scheletrizzazione"
      ],
      "metadata": {
        "id": "vCqNCPSF8BCm"
      }
    },
    {
      "cell_type": "code",
      "source": [
        "show_single_letter(tr_images[0])"
      ],
      "metadata": {
        "colab": {
          "base_uri": "https://localhost:8080/",
          "height": 406
        },
        "id": "2QiklEyX8Ac8",
        "outputId": "6adaa72c-2379-4757-d7ce-63beaedeb6f7"
      },
      "execution_count": null,
      "outputs": [
        {
          "output_type": "display_data",
          "data": {
            "text/plain": [
              "<Figure size 640x480 with 1 Axes>"
            ],
            "image/png": "[encoded data removed]"
          },
          "metadata": {}
        }
      ]
    },
    {
      "cell_type": "code",
      "source": [
        "thresh = 128\n",
        "maxval=255\n",
        "\n",
        "im_bin = (tr_images[0] > thresh)*maxval\n",
        "print(im_bin)\n",
        "show_single_letter(im_bin)\n"
      ],
      "metadata": {
        "colab": {
          "base_uri": "https://localhost:8080/",
          "height": 1000
        },
        "id": "Yoxr6ef7_TZS",
        "outputId": "186d3dca-8acf-4f94-a824-98def97b8b80"
      },
      "execution_count": null,
      "outputs": [
        {
          "output_type": "stream",
          "name": "stdout",
          "text": [
            "tensor([[  0,   0,   0,   0,   0,   0,   0,   0,   0,   0,   0,   0,   0,   0,\n",
            "           0,   0,   0,   0,   0,   0,   0,   0,   0,   0,   0,   0,   0,   0],\n",
            "        [  0,   0,   0,   0,   0,   0,   0,   0,   0,   0,   0,   0,   0,   0,\n",
            "           0,   0,   0,   0,   0,   0,   0,   0,   0,   0,   0,   0,   0,   0],\n",
            "        [  0,   0,   0,   0,   0,   0,   0,   0,   0,   0,   0,   0,   0,   0,\n",
            "           0,   0,   0,   0,   0,   0,   0,   0,   0,   0,   0,   0,   0,   0],\n",
            "        [  0,   0,   0,   0,   0,   0,   0,   0,   0,   0, 255,   0,   0,   0,\n",
            "           0,   0,   0,   0,   0,   0,   0,   0,   0,   0,   0,   0,   0,   0],\n",
            "        [  0,   0,   0, 255, 255, 255, 255, 255, 255, 255, 255, 255, 255, 255,\n",
            "         255, 255, 255, 255, 255, 255, 255, 255, 255, 255, 255,   0,   0,   0],\n",
            "        [  0,   0,   0, 255, 255, 255, 255, 255, 255, 255, 255, 255, 255, 255,\n",
            "         255, 255, 255, 255, 255, 255, 255, 255, 255, 255, 255,   0,   0,   0],\n",
            "        [  0,   0,   0, 255, 255, 255, 255, 255, 255, 255, 255, 255, 255, 255,\n",
            "         255, 255, 255, 255, 255, 255, 255, 255, 255, 255, 255,   0,   0,   0],\n",
            "        [  0,   0,   0,   0,   0,   0,   0, 255, 255, 255, 255, 255, 255, 255,\n",
            "         255, 255, 255, 255, 255, 255, 255, 255, 255, 255,   0,   0,   0,   0],\n",
            "        [  0,   0,   0,   0,   0,   0,   0,   0,   0,   0,   0,   0, 255, 255,\n",
            "         255, 255, 255, 255, 255, 255, 255, 255,   0,   0,   0,   0,   0,   0],\n",
            "        [  0,   0,   0,   0,   0,   0,   0,   0,   0,   0,   0, 255, 255, 255,\n",
            "         255, 255, 255, 255, 255,   0,   0,   0,   0,   0,   0,   0,   0,   0],\n",
            "        [  0,   0,   0,   0,   0,   0,   0,   0,   0, 255, 255, 255, 255, 255,\n",
            "         255, 255,   0,   0,   0,   0,   0,   0,   0,   0,   0,   0,   0,   0],\n",
            "        [  0,   0,   0,   0,   0,   0,   0,   0, 255, 255, 255, 255, 255, 255,\n",
            "         255,   0,   0,   0,   0,   0,   0,   0,   0,   0,   0,   0,   0,   0],\n",
            "        [  0,   0,   0,   0,   0,   0, 255, 255, 255, 255, 255, 255, 255,   0,\n",
            "           0,   0,   0,   0,   0,   0,   0,   0,   0,   0,   0,   0,   0,   0],\n",
            "        [  0,   0,   0,   0,   0, 255, 255, 255, 255, 255, 255, 255, 255, 255,\n",
            "           0,   0,   0,   0,   0,   0,   0,   0,   0,   0,   0,   0,   0,   0],\n",
            "        [  0,   0,   0,   0, 255, 255, 255, 255, 255, 255, 255, 255, 255, 255,\n",
            "         255, 255, 255, 255, 255, 255, 255, 255,   0,   0,   0,   0,   0,   0],\n",
            "        [  0,   0,   0,   0, 255, 255, 255, 255, 255, 255, 255, 255, 255, 255,\n",
            "         255, 255, 255, 255, 255, 255, 255, 255, 255,   0,   0,   0,   0,   0],\n",
            "        [  0,   0,   0,   0,   0,   0, 255, 255, 255, 255, 255, 255, 255, 255,\n",
            "         255, 255, 255, 255, 255, 255, 255, 255, 255,   0,   0,   0,   0,   0],\n",
            "        [  0,   0,   0,   0,   0,   0,   0,   0,   0, 255, 255, 255, 255, 255,\n",
            "         255, 255, 255, 255, 255, 255, 255, 255,   0,   0,   0,   0,   0,   0],\n",
            "        [  0,   0,   0,   0,   0,   0,   0,   0,   0, 255, 255, 255, 255, 255,\n",
            "         255, 255, 255, 255, 255,   0,   0,   0,   0,   0,   0,   0,   0,   0],\n",
            "        [  0,   0,   0,   0,   0,   0,   0,   0, 255, 255, 255, 255, 255, 255,\n",
            "         255, 255,   0,   0,   0,   0,   0,   0,   0,   0,   0,   0,   0,   0],\n",
            "        [  0,   0,   0,   0,   0,   0, 255, 255, 255, 255, 255, 255, 255,   0,\n",
            "           0,   0,   0,   0,   0,   0,   0,   0,   0,   0,   0,   0,   0,   0],\n",
            "        [  0,   0,   0,   0,   0,   0, 255, 255, 255, 255, 255, 255,   0,   0,\n",
            "           0,   0,   0,   0,   0,   0,   0,   0,   0,   0,   0,   0,   0,   0],\n",
            "        [  0,   0,   0,   0,   0,   0, 255, 255, 255, 255, 255,   0,   0,   0,\n",
            "           0,   0,   0,   0,   0,   0,   0,   0,   0,   0,   0,   0,   0,   0],\n",
            "        [  0,   0,   0,   0,   0,   0, 255, 255, 255,   0,   0,   0,   0,   0,\n",
            "           0,   0,   0,   0,   0,   0,   0,   0,   0,   0,   0,   0,   0,   0],\n",
            "        [  0,   0,   0,   0,   0,   0,   0,   0,   0,   0,   0,   0,   0,   0,\n",
            "           0,   0,   0,   0,   0,   0,   0,   0,   0,   0,   0,   0,   0,   0],\n",
            "        [  0,   0,   0,   0,   0,   0,   0,   0,   0,   0,   0,   0,   0,   0,\n",
            "           0,   0,   0,   0,   0,   0,   0,   0,   0,   0,   0,   0,   0,   0],\n",
            "        [  0,   0,   0,   0,   0,   0,   0,   0,   0,   0,   0,   0,   0,   0,\n",
            "           0,   0,   0,   0,   0,   0,   0,   0,   0,   0,   0,   0,   0,   0],\n",
            "        [  0,   0,   0,   0,   0,   0,   0,   0,   0,   0,   0,   0,   0,   0,\n",
            "           0,   0,   0,   0,   0,   0,   0,   0,   0,   0,   0,   0,   0,   0]])\n"
          ]
        },
        {
          "output_type": "display_data",
          "data": {
            "text/plain": [
              "<Figure size 640x480 with 1 Axes>"
            ],
            "image/png": "[encoded data removed]"
          },
          "metadata": {}
        }
      ]
    }
  ]
}